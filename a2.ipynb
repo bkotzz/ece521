{
 "cells": [
  {
   "cell_type": "markdown",
   "metadata": {},
   "source": [
    "#### Imports"
   ]
  },
  {
   "cell_type": "code",
   "execution_count": 2,
   "metadata": {
    "collapsed": false
   },
   "outputs": [],
   "source": [
    "import numpy as np\n",
    "import tensorflow as tf\n",
    "\n",
    "import matplotlib.pyplot as plt\n",
    "\n",
    "%matplotlib inline"
   ]
  },
  {
   "cell_type": "markdown",
   "metadata": {},
   "source": [
    "#### Import Data"
   ]
  },
  {
   "cell_type": "code",
   "execution_count": 3,
   "metadata": {
    "collapsed": true
   },
   "outputs": [],
   "source": [
    "with np.load(\"notMNIST.npz\") as data:\n",
    "    images, labels = data[\"images\"], data[\"labels\"]"
   ]
  },
  {
   "cell_type": "code",
   "execution_count": 4,
   "metadata": {
    "collapsed": false
   },
   "outputs": [
    {
     "data": {
      "text/plain": [
       "10"
      ]
     },
     "execution_count": 4,
     "metadata": {},
     "output_type": "execute_result"
    }
   ],
   "source": [
    "num_classes = labels.max() - labels.min() + 1\n",
    "num_classes"
   ]
  },
  {
   "cell_type": "code",
   "execution_count": 5,
   "metadata": {
    "collapsed": false
   },
   "outputs": [
    {
     "data": {
      "text/plain": [
       "(28, 28, 18720)"
      ]
     },
     "execution_count": 5,
     "metadata": {},
     "output_type": "execute_result"
    }
   ],
   "source": [
    "images.shape"
   ]
  },
  {
   "cell_type": "code",
   "execution_count": 6,
   "metadata": {
    "collapsed": false
   },
   "outputs": [
    {
     "data": {
      "text/plain": [
       "(18720, 28, 28)"
      ]
     },
     "execution_count": 6,
     "metadata": {},
     "output_type": "execute_result"
    }
   ],
   "source": [
    "images.T.shape"
   ]
  },
  {
   "cell_type": "code",
   "execution_count": 7,
   "metadata": {
    "collapsed": false
   },
   "outputs": [
    {
     "data": {
      "text/plain": [
       "(18720, 1)"
      ]
     },
     "execution_count": 7,
     "metadata": {},
     "output_type": "execute_result"
    }
   ],
   "source": [
    "labels.shape"
   ]
  },
  {
   "cell_type": "code",
   "execution_count": 8,
   "metadata": {
    "collapsed": false
   },
   "outputs": [
    {
     "data": {
      "text/plain": [
       "(28, 28)"
      ]
     },
     "execution_count": 8,
     "metadata": {},
     "output_type": "execute_result"
    }
   ],
   "source": [
    "temp_img = images.T[1].T\n",
    "temp_img.shape"
   ]
  },
  {
   "cell_type": "code",
   "execution_count": 9,
   "metadata": {
    "collapsed": false
   },
   "outputs": [
    {
     "data": {
      "text/plain": [
       "<matplotlib.image.AxesImage at 0x10c038710>"
      ]
     },
     "execution_count": 9,
     "metadata": {},
     "output_type": "execute_result"
    },
    {
     "data": {
      "image/png": "[encoded data removed]",
      "text/plain": [
       "<matplotlib.figure.Figure at 0x10b17d150>"
      ]
     },
     "metadata": {},
     "output_type": "display_data"
    }
   ],
   "source": [
    "plt.imshow(temp_img, cmap=plt.gray())"
   ]
  },
  {
   "cell_type": "code",
   "execution_count": 10,
   "metadata": {
    "collapsed": false
   },
   "outputs": [
    {
     "name": "stdout",
     "output_type": "stream",
     "text": [
      "[7]\n"
     ]
    }
   ],
   "source": [
    "print labels[1]"
   ]
  },
  {
   "cell_type": "markdown",
   "metadata": {},
   "source": [
    "## Logistic Regression w/ Softmax"
   ]
  },
  {
   "cell_type": "markdown",
   "metadata": {},
   "source": [
    "- Softmax output layer\n",
    "- Log likelihood objective function\n",
    "- Train with no reg., SGD and momentum\n",
    "- Find good value for momentum hyper\n",
    "- Plot log likelihood / errors of training and valid vs number of epochs\n",
    "- Determine best time to stop training, and compute test errors on it\n",
    "\n",
    "$$y(\\mathbf{x}, \\mathbf{w}) = \\sigma (\\mathbf{x}^T \\mathbf{w} + b)$$"
   ]
  },
  {
   "cell_type": "markdown",
   "metadata": {},
   "source": [
    "#### Set up data"
   ]
  },
  {
   "cell_type": "code",
   "execution_count": 11,
   "metadata": {
    "collapsed": false
   },
   "outputs": [
    {
     "data": {
      "text/plain": [
       "(18720, 784)"
      ]
     },
     "execution_count": 11,
     "metadata": {},
     "output_type": "execute_result"
    }
   ],
   "source": [
    "images_re = images.reshape((images.shape[0] * images.shape[1], images.shape[2])).T\n",
    "images_re.shape"
   ]
  },
  {
   "cell_type": "code",
   "execution_count": 12,
   "metadata": {
    "collapsed": true
   },
   "outputs": [],
   "source": [
    "training_size = 15000\n",
    "validation_size = 1000"
   ]
  },
  {
   "cell_type": "code",
   "execution_count": 13,
   "metadata": {
    "collapsed": true
   },
   "outputs": [],
   "source": [
    "train_x = images_re[:training_size]\n",
    "valid_x = images_re[training_size:training_size + validation_size]\n",
    "test_x = images_re[training_size + validation_size:]"
   ]
  },
  {
   "cell_type": "markdown",
   "metadata": {},
   "source": [
    "#### Create one-hot labels"
   ]
  },
  {
   "cell_type": "code",
   "execution_count": 14,
   "metadata": {
    "collapsed": false
   },
   "outputs": [
    {
     "data": {
      "text/plain": [
       "18720"
      ]
     },
     "execution_count": 14,
     "metadata": {},
     "output_type": "execute_result"
    }
   ],
   "source": [
    "labels.size"
   ]
  },
  {
   "cell_type": "code",
   "execution_count": 15,
   "metadata": {
    "collapsed": false
   },
   "outputs": [
    {
     "data": {
      "text/plain": [
       "array([[4],\n",
       "       [7],\n",
       "       [5],\n",
       "       [9],\n",
       "       [9],\n",
       "       [1],\n",
       "       [0],\n",
       "       [8],\n",
       "       [5],\n",
       "       [5]], dtype=uint8)"
      ]
     },
     "execution_count": 15,
     "metadata": {},
     "output_type": "execute_result"
    }
   ],
   "source": [
    "labels[:10]"
   ]
  },
  {
   "cell_type": "code",
   "execution_count": 16,
   "metadata": {
    "collapsed": false
   },
   "outputs": [],
   "source": [
    "num_examples = labels.size\n",
    "labels_one_hot = np.zeros((num_examples, labels.max() - labels.min() + 1))\n",
    "labels_one_hot[np.arange(num_examples), labels[:num_examples].ravel()] = 1"
   ]
  },
  {
   "cell_type": "code",
   "execution_count": 17,
   "metadata": {
    "collapsed": false
   },
   "outputs": [
    {
     "data": {
      "text/plain": [
       "array([[ 0.,  0.,  0.,  0.,  1.,  0.,  0.,  0.,  0.,  0.],\n",
       "       [ 0.,  0.,  0.,  0.,  0.,  0.,  0.,  1.,  0.,  0.],\n",
       "       [ 0.,  0.,  0.,  0.,  0.,  1.,  0.,  0.,  0.,  0.],\n",
       "       [ 0.,  0.,  0.,  0.,  0.,  0.,  0.,  0.,  0.,  1.],\n",
       "       [ 0.,  0.,  0.,  0.,  0.,  0.,  0.,  0.,  0.,  1.],\n",
       "       [ 0.,  1.,  0.,  0.,  0.,  0.,  0.,  0.,  0.,  0.],\n",
       "       [ 1.,  0.,  0.,  0.,  0.,  0.,  0.,  0.,  0.,  0.],\n",
       "       [ 0.,  0.,  0.,  0.,  0.,  0.,  0.,  0.,  1.,  0.],\n",
       "       [ 0.,  0.,  0.,  0.,  0.,  1.,  0.,  0.,  0.,  0.],\n",
       "       [ 0.,  0.,  0.,  0.,  0.,  1.,  0.,  0.,  0.,  0.]])"
      ]
     },
     "execution_count": 17,
     "metadata": {},
     "output_type": "execute_result"
    }
   ],
   "source": [
    "labels_one_hot[:10]"
   ]
  },
  {
   "cell_type": "code",
   "execution_count": 18,
   "metadata": {
    "collapsed": true
   },
   "outputs": [],
   "source": [
    "train_y = labels_one_hot[:training_size]\n",
    "valid_y = labels_one_hot[training_size:training_size + validation_size]\n",
    "test_y = labels_one_hot[training_size + validation_size:]"
   ]
  },
  {
   "cell_type": "markdown",
   "metadata": {},
   "source": [
    "#### Try sklearn"
   ]
  },
  {
   "cell_type": "code",
   "execution_count": 25,
   "metadata": {
    "collapsed": false
   },
   "outputs": [
    {
     "data": {
      "text/plain": [
       "LogisticRegression(C=1.0, class_weight=None, dual=False, fit_intercept=True,\n",
       "          intercept_scaling=1, max_iter=100, multi_class='multinomial',\n",
       "          n_jobs=1, penalty='l2', random_state=None, solver='lbfgs',\n",
       "          tol=0.0001, verbose=0, warm_start=False)"
      ]
     },
     "execution_count": 25,
     "metadata": {},
     "output_type": "execute_result"
    }
   ],
   "source": [
    "from sklearn.linear_model import LogisticRegression\n",
    "lr = LogisticRegression(multi_class='multinomial', solver='lbfgs')\n",
    "lr.fit(train_x, labels[:training_size].ravel())"
   ]
  },
  {
   "cell_type": "code",
   "execution_count": 28,
   "metadata": {
    "collapsed": false
   },
   "outputs": [
    {
     "data": {
      "text/plain": [
       "0.93786666666666663"
      ]
     },
     "execution_count": 28,
     "metadata": {},
     "output_type": "execute_result"
    }
   ],
   "source": [
    "lr.score(train_x, labels[:training_size].ravel())"
   ]
  },
  {
   "cell_type": "code",
   "execution_count": 27,
   "metadata": {
    "collapsed": false
   },
   "outputs": [
    {
     "data": {
      "text/plain": [
       "0.878"
      ]
     },
     "execution_count": 27,
     "metadata": {},
     "output_type": "execute_result"
    }
   ],
   "source": [
    "lr.score(valid_x, labels[training_size:training_size + validation_size].ravel())"
   ]
  },
  {
   "cell_type": "code",
   "execution_count": 29,
   "metadata": {
    "collapsed": false
   },
   "outputs": [
    {
     "data": {
      "text/plain": [
       "0.87169117647058825"
      ]
     },
     "execution_count": 29,
     "metadata": {},
     "output_type": "execute_result"
    }
   ],
   "source": [
    "lr.score(test_x, labels[training_size + validation_size:].ravel())"
   ]
  },
  {
   "cell_type": "markdown",
   "metadata": {},
   "source": [
    "#### Set up TF variables"
   ]
  },
  {
   "cell_type": "code",
   "execution_count": 34,
   "metadata": {
    "collapsed": true
   },
   "outputs": [],
   "source": [
    "#Placeholders\n",
    "X = tf.placeholder(\"float\", shape=(None, 28 * 28))\n",
    "Targets = tf.placeholder(\"float\", shape=(None, num_classes))\n",
    "\n",
    "#Variables\n",
    "W = tf.Variable(np.random.randn(28 * 28, num_classes).astype(\"float32\"), name=\"weight\")\n",
    "b = tf.Variable(np.random.randn(num_classes).astype(\"float32\"), name=\"bias\")"
   ]
  },
  {
   "cell_type": "code",
   "execution_count": 35,
   "metadata": {
    "collapsed": true
   },
   "outputs": [],
   "source": [
    "logits = tf.add(tf.matmul(X, W), b)\n",
    "Y = tf.nn.softmax(logits)"
   ]
  },
  {
   "cell_type": "code",
   "execution_count": 36,
   "metadata": {
    "collapsed": false
   },
   "outputs": [
    {
     "data": {
      "text/plain": [
       "TensorShape([Dimension(None), Dimension(10)])"
      ]
     },
     "execution_count": 36,
     "metadata": {},
     "output_type": "execute_result"
    }
   ],
   "source": [
    "Y.get_shape()"
   ]
  },
  {
   "cell_type": "markdown",
   "metadata": {},
   "source": [
    "#### Try with CE loss function"
   ]
  },
  {
   "cell_type": "code",
   "execution_count": 38,
   "metadata": {
    "collapsed": false
   },
   "outputs": [],
   "source": [
    "cost_batch = tf.nn.softmax_cross_entropy_with_logits(logits=logits, labels=Targets)\n",
    "cost = tf.reduce_mean(cost_batch)"
   ]
  },
  {
   "cell_type": "code",
   "execution_count": 54,
   "metadata": {
    "collapsed": false
   },
   "outputs": [],
   "source": [
    "learning_rate = 0.01\n",
    "optimizer = tf.train.MomentumOptimizer(learning_rate=learning_rate, momentum=0.99)\n",
    "train_op = optimizer.minimize(cost)"
   ]
  },
  {
   "cell_type": "code",
   "execution_count": 55,
   "metadata": {
    "collapsed": true
   },
   "outputs": [],
   "source": [
    "correct_prediction = tf.equal(tf.argmax(Y,1), tf.argmax(Targets,1))\n",
    "accuracy = tf.reduce_mean(tf.cast(correct_prediction, \"float32\"))"
   ]
  },
  {
   "cell_type": "code",
   "execution_count": 56,
   "metadata": {
    "collapsed": true
   },
   "outputs": [],
   "source": [
    "sess = tf.InteractiveSession()"
   ]
  },
  {
   "cell_type": "code",
   "execution_count": 57,
   "metadata": {
    "collapsed": true
   },
   "outputs": [],
   "source": [
    "init = tf.initialize_all_variables()"
   ]
  },
  {
   "cell_type": "code",
   "execution_count": 58,
   "metadata": {
    "collapsed": true
   },
   "outputs": [],
   "source": [
    "sess.run(init)"
   ]
  },
  {
   "cell_type": "code",
   "execution_count": 59,
   "metadata": {
    "collapsed": true
   },
   "outputs": [],
   "source": [
    "num_epochs = 100\n",
    "mini_batch_size = 100"
   ]
  },
  {
   "cell_type": "code",
   "execution_count": 60,
   "metadata": {
    "collapsed": true
   },
   "outputs": [],
   "source": [
    "train_error = []\n",
    "valid_error = []"
   ]
  },
  {
   "cell_type": "code",
   "execution_count": 61,
   "metadata": {
    "collapsed": false,
    "scrolled": true
   },
   "outputs": [
    {
     "name": "stdout",
     "output_type": "stream",
     "text": [
      "Epoch:0000, cost=39207.738281250, Train Accuracy=0.8697, Eval Accuracy=0.8720\n",
      "Epoch:0001, cost=27133.898437500, Train Accuracy=0.8806, Eval Accuracy=0.8690\n",
      "Epoch:0002, cost=19363.412109375, Train Accuracy=0.8800, Eval Accuracy=0.8650\n",
      "Epoch:0003, cost=14848.763671875, Train Accuracy=0.8829, Eval Accuracy=0.8650\n",
      "Epoch:0004, cost=14468.912109375, Train Accuracy=0.8748, Eval Accuracy=0.8490\n",
      "Epoch:0005, cost=23067.462890625, Train Accuracy=0.8509, Eval Accuracy=0.8110\n",
      "Epoch:0006, cost=24954.830078125, Train Accuracy=0.8570, Eval Accuracy=0.8300\n",
      "Epoch:0007, cost=15156.181640625, Train Accuracy=0.8985, Eval Accuracy=0.8600\n",
      "Epoch:0008, cost=19793.066406250, Train Accuracy=0.8554, Eval Accuracy=0.8160\n",
      "Epoch:0009, cost=15333.002929688, Train Accuracy=0.8905, Eval Accuracy=0.8570\n",
      "Epoch:0010, cost=25625.281250000, Train Accuracy=0.8521, Eval Accuracy=0.8050\n",
      "Epoch:0011, cost=22523.697265625, Train Accuracy=0.8420, Eval Accuracy=0.7910\n",
      "Epoch:0012, cost=15691.054687500, Train Accuracy=0.9039, Eval Accuracy=0.8720\n",
      "Epoch:0013, cost=20952.535156250, Train Accuracy=0.8659, Eval Accuracy=0.8150\n",
      "Epoch:0014, cost=21612.691406250, Train Accuracy=0.8483, Eval Accuracy=0.8080\n",
      "Epoch:0015, cost=17503.466796875, Train Accuracy=0.8903, Eval Accuracy=0.8510\n",
      "Epoch:0016, cost=16275.489257812, Train Accuracy=0.8865, Eval Accuracy=0.8430\n",
      "Epoch:0017, cost=20454.443359375, Train Accuracy=0.8792, Eval Accuracy=0.8350\n",
      "Epoch:0018, cost=17638.873046875, Train Accuracy=0.9059, Eval Accuracy=0.8590\n",
      "Epoch:0019, cost=20603.996093750, Train Accuracy=0.8906, Eval Accuracy=0.8530\n",
      "Epoch:0020, cost=38079.636718750, Train Accuracy=0.8056, Eval Accuracy=0.7690\n",
      "Epoch:0021, cost=28765.373046875, Train Accuracy=0.8621, Eval Accuracy=0.8190\n",
      "Epoch:0022, cost=15005.690429688, Train Accuracy=0.9091, Eval Accuracy=0.8570\n",
      "Epoch:0023, cost=13809.424804688, Train Accuracy=0.9041, Eval Accuracy=0.8520\n",
      "Epoch:0024, cost=17922.001953125, Train Accuracy=0.8838, Eval Accuracy=0.8340\n",
      "Epoch:0025, cost=22556.953125000, Train Accuracy=0.8605, Eval Accuracy=0.8180\n",
      "Epoch:0026, cost=28260.496093750, Train Accuracy=0.8608, Eval Accuracy=0.8070\n",
      "Epoch:0027, cost=18019.875000000, Train Accuracy=0.8871, Eval Accuracy=0.8440\n",
      "Epoch:0028, cost=19810.169921875, Train Accuracy=0.8827, Eval Accuracy=0.8360\n",
      "Epoch:0029, cost=28138.787109375, Train Accuracy=0.8551, Eval Accuracy=0.8080\n",
      "Epoch:0030, cost=25512.617187500, Train Accuracy=0.8535, Eval Accuracy=0.8060\n",
      "Epoch:0031, cost=16324.741210938, Train Accuracy=0.9073, Eval Accuracy=0.8560\n",
      "Epoch:0032, cost=17917.753906250, Train Accuracy=0.8915, Eval Accuracy=0.8490\n",
      "Epoch:0033, cost=20315.515625000, Train Accuracy=0.8753, Eval Accuracy=0.8190\n",
      "Epoch:0034, cost=22227.326171875, Train Accuracy=0.8635, Eval Accuracy=0.8210\n",
      "Epoch:0035, cost=17317.466796875, Train Accuracy=0.8963, Eval Accuracy=0.8450\n",
      "Epoch:0036, cost=13165.792968750, Train Accuracy=0.9109, Eval Accuracy=0.8570\n",
      "Epoch:0037, cost=14789.500000000, Train Accuracy=0.9005, Eval Accuracy=0.8440\n",
      "Epoch:0038, cost=16076.363281250, Train Accuracy=0.8769, Eval Accuracy=0.8140\n",
      "Epoch:0039, cost=14138.417968750, Train Accuracy=0.8973, Eval Accuracy=0.8350\n",
      "Epoch:0040, cost=10182.735351562, Train Accuracy=0.9159, Eval Accuracy=0.8650\n",
      "Epoch:0041, cost=10927.905273438, Train Accuracy=0.9196, Eval Accuracy=0.8680\n",
      "Epoch:0042, cost=19380.435546875, Train Accuracy=0.8841, Eval Accuracy=0.8340\n",
      "Epoch:0043, cost=20586.453125000, Train Accuracy=0.8704, Eval Accuracy=0.8180\n",
      "Epoch:0044, cost=22542.621093750, Train Accuracy=0.8651, Eval Accuracy=0.8190\n",
      "Epoch:0045, cost=19939.695312500, Train Accuracy=0.8931, Eval Accuracy=0.8360\n",
      "Epoch:0046, cost=12984.341796875, Train Accuracy=0.9077, Eval Accuracy=0.8440\n",
      "Epoch:0047, cost=13886.730468750, Train Accuracy=0.9026, Eval Accuracy=0.8500\n",
      "Epoch:0048, cost=10503.191406250, Train Accuracy=0.9122, Eval Accuracy=0.8460\n",
      "Epoch:0049, cost=15412.688476562, Train Accuracy=0.8815, Eval Accuracy=0.8140\n",
      "Epoch:0050, cost=12861.080078125, Train Accuracy=0.9075, Eval Accuracy=0.8540\n",
      "Epoch:0051, cost=23423.771484375, Train Accuracy=0.8587, Eval Accuracy=0.8240\n",
      "Epoch:0052, cost=15903.615234375, Train Accuracy=0.9049, Eval Accuracy=0.8550\n",
      "Epoch:0053, cost=12450.046875000, Train Accuracy=0.9179, Eval Accuracy=0.8530\n",
      "Epoch:0054, cost=16253.829101562, Train Accuracy=0.8958, Eval Accuracy=0.8520\n",
      "Epoch:0055, cost=12827.795898438, Train Accuracy=0.9037, Eval Accuracy=0.8410\n",
      "Epoch:0056, cost=11665.737304688, Train Accuracy=0.9125, Eval Accuracy=0.8440\n",
      "Epoch:0057, cost=11679.576171875, Train Accuracy=0.9135, Eval Accuracy=0.8500\n",
      "Epoch:0058, cost=13384.611328125, Train Accuracy=0.9025, Eval Accuracy=0.8440\n",
      "Epoch:0059, cost=16479.203125000, Train Accuracy=0.8699, Eval Accuracy=0.8110\n",
      "Epoch:0060, cost=12877.044921875, Train Accuracy=0.9131, Eval Accuracy=0.8470\n",
      "Epoch:0061, cost=18146.152343750, Train Accuracy=0.8903, Eval Accuracy=0.8360\n",
      "Epoch:0062, cost=12167.526367188, Train Accuracy=0.9197, Eval Accuracy=0.8550\n",
      "Epoch:0063, cost=11806.133789062, Train Accuracy=0.9095, Eval Accuracy=0.8380\n",
      "Epoch:0064, cost=14184.944335938, Train Accuracy=0.9035, Eval Accuracy=0.8460\n",
      "Epoch:0065, cost=17242.718750000, Train Accuracy=0.8904, Eval Accuracy=0.8330\n",
      "Epoch:0066, cost=17918.039062500, Train Accuracy=0.8779, Eval Accuracy=0.8260\n",
      "Epoch:0067, cost=11878.304687500, Train Accuracy=0.9189, Eval Accuracy=0.8500\n",
      "Epoch:0068, cost=17313.910156250, Train Accuracy=0.8933, Eval Accuracy=0.8390\n",
      "Epoch:0069, cost=14722.325195312, Train Accuracy=0.8973, Eval Accuracy=0.8250\n",
      "Epoch:0070, cost=13607.507812500, Train Accuracy=0.8984, Eval Accuracy=0.8400\n",
      "Epoch:0071, cost=12065.164062500, Train Accuracy=0.9088, Eval Accuracy=0.8520\n",
      "Epoch:0072, cost=14291.541992188, Train Accuracy=0.8909, Eval Accuracy=0.8250\n",
      "Epoch:0073, cost=13006.631835938, Train Accuracy=0.9118, Eval Accuracy=0.8510\n",
      "Epoch:0074, cost=20105.906250000, Train Accuracy=0.8827, Eval Accuracy=0.8320\n",
      "Epoch:0075, cost=16689.828125000, Train Accuracy=0.8981, Eval Accuracy=0.8450\n",
      "Epoch:0076, cost=19812.318359375, Train Accuracy=0.8948, Eval Accuracy=0.8350\n",
      "Epoch:0077, cost=21276.716796875, Train Accuracy=0.8931, Eval Accuracy=0.8450\n",
      "Epoch:0078, cost=16288.767578125, Train Accuracy=0.9053, Eval Accuracy=0.8450\n",
      "Epoch:0079, cost=14901.743164062, Train Accuracy=0.9053, Eval Accuracy=0.8420\n",
      "Epoch:0080, cost=17332.564453125, Train Accuracy=0.8865, Eval Accuracy=0.8250\n",
      "Epoch:0081, cost=18567.160156250, Train Accuracy=0.8861, Eval Accuracy=0.8280\n",
      "Epoch:0082, cost=17198.191406250, Train Accuracy=0.8929, Eval Accuracy=0.8280\n",
      "Epoch:0083, cost=17423.779296875, Train Accuracy=0.8879, Eval Accuracy=0.8240\n",
      "Epoch:0084, cost=17584.541015625, Train Accuracy=0.9040, Eval Accuracy=0.8470\n",
      "Epoch:0085, cost=17464.679687500, Train Accuracy=0.9051, Eval Accuracy=0.8510\n",
      "Epoch:0086, cost=23242.097656250, Train Accuracy=0.8702, Eval Accuracy=0.8000\n",
      "Epoch:0087, cost=18501.361328125, Train Accuracy=0.9109, Eval Accuracy=0.8570\n",
      "Epoch:0088, cost=22093.730468750, Train Accuracy=0.8967, Eval Accuracy=0.8490\n",
      "Epoch:0089, cost=19275.400390625, Train Accuracy=0.9050, Eval Accuracy=0.8450\n",
      "Epoch:0090, cost=20943.378906250, Train Accuracy=0.9087, Eval Accuracy=0.8570\n",
      "Epoch:0091, cost=21492.587890625, Train Accuracy=0.9079, Eval Accuracy=0.8600\n",
      "Epoch:0092, cost=26963.652343750, Train Accuracy=0.8986, Eval Accuracy=0.8630\n",
      "Epoch:0093, cost=20293.160156250, Train Accuracy=0.9175, Eval Accuracy=0.8660\n",
      "Epoch:0094, cost=25250.650390625, Train Accuracy=0.8849, Eval Accuracy=0.8300\n",
      "Epoch:0095, cost=28422.343750000, Train Accuracy=0.8536, Eval Accuracy=0.7870\n",
      "Epoch:0096, cost=19078.001953125, Train Accuracy=0.9100, Eval Accuracy=0.8520\n",
      "Epoch:0097, cost=24618.943359375, Train Accuracy=0.8828, Eval Accuracy=0.8250\n",
      "Epoch:0098, cost=16068.253906250, Train Accuracy=0.9225, Eval Accuracy=0.8620\n",
      "Epoch:0099, cost=14314.164062500, Train Accuracy=0.9261, Eval Accuracy=0.8620\n"
     ]
    }
   ],
   "source": [
    "for epoch in range(num_epochs): \n",
    "    for i in range(training_size / mini_batch_size):\n",
    "        batch_x = train_x[i * mini_batch_size: (i + 1) * mini_batch_size]\n",
    "        batch_y = train_y[i * mini_batch_size: (i + 1) * mini_batch_size]\n",
    "\n",
    "        cost_np, _ = sess.run([cost, train_op], feed_dict={X: batch_x, Targets: batch_y})\n",
    "\n",
    "    #Display logs per epoch step\n",
    "    if epoch % num_epochs / 100 == 0:\n",
    "        cost_train, accuracy_train = sess.run([cost, accuracy], feed_dict={X: train_x, Targets: train_y})\n",
    "        cost_valid, accuracy_valid = sess.run([cost, accuracy], feed_dict={X: valid_x, Targets: valid_y})\n",
    "        \n",
    "        train_error.append(accuracy_train)\n",
    "        valid_error.append(accuracy_valid)\n",
    "        \n",
    "        print (\"Epoch:%04d, cost=%0.9f, Train Accuracy=%0.4f, Eval Accuracy=%0.4f\" %\n",
    "           (epoch, cost_train, accuracy_train, accuracy_valid))"
   ]
  },
  {
   "cell_type": "code",
   "execution_count": 62,
   "metadata": {
    "collapsed": false
   },
   "outputs": [
    {
     "name": "stdout",
     "output_type": "stream",
     "text": [
      "0.857353\n"
     ]
    }
   ],
   "source": [
    "print(sess.run(accuracy, feed_dict={X: test_x, Targets: test_y}))"
   ]
  },
  {
   "cell_type": "code",
   "execution_count": 63,
   "metadata": {
    "collapsed": false
   },
   "outputs": [
    {
     "data": {
      "text/plain": [
       "[<matplotlib.lines.Line2D at 0x11adaa910>]"
      ]
     },
     "execution_count": 63,
     "metadata": {},
     "output_type": "execute_result"
    },
    {
     "data": {
      "image/png": "[encoded data removed]",
      "text/plain": [
       "<matplotlib.figure.Figure at 0x11a199910>"
      ]
     },
     "metadata": {},
     "output_type": "display_data"
    }
   ],
   "source": [
    "plt.plot(np.arange(100), train_error)\n",
    "plt.plot(np.arange(100), valid_error)"
   ]
  },
  {
   "cell_type": "code",
   "execution_count": null,
   "metadata": {
    "collapsed": true
   },
   "outputs": [],
   "source": []
  }
 ],
 "metadata": {
  "kernelspec": {
   "display_name": "Python 2",
   "language": "python",
   "name": "python2"
  },
  "language_info": {
   "codemirror_mode": {
    "name": "ipython",
    "version": 2
   },
   "file_extension": ".py",
   "mimetype": "text/x-python",
   "name": "python",
   "nbconvert_exporter": "python",
   "pygments_lexer": "ipython2",
   "version": "2.7.11"
  }
 },
 "nbformat": 4,
 "nbformat_minor": 0
}
