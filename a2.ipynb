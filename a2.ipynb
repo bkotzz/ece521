{
 "cells": [
  {
   "cell_type": "markdown",
   "metadata": {},
   "source": [
    "#### Imports"
   ]
  },
  {
   "cell_type": "code",
   "execution_count": 2,
   "metadata": {
    "collapsed": false
   },
   "outputs": [],
   "source": [
    "import numpy as np\n",
    "import tensorflow as tf\n",
    "\n",
    "import matplotlib.pyplot as plt\n",
    "\n",
    "%matplotlib inline"
   ]
  },
  {
   "cell_type": "markdown",
   "metadata": {},
   "source": [
    "#### Import Data"
   ]
  },
  {
   "cell_type": "code",
   "execution_count": 3,
   "metadata": {
    "collapsed": true
   },
   "outputs": [],
   "source": [
    "with np.load(\"notMNIST.npz\") as data:\n",
    "    images, labels = data[\"images\"], data[\"labels\"]"
   ]
  },
  {
   "cell_type": "code",
   "execution_count": 4,
   "metadata": {
    "collapsed": false
   },
   "outputs": [
    {
     "data": {
      "text/plain": [
       "10"
      ]
     },
     "execution_count": 4,
     "metadata": {},
     "output_type": "execute_result"
    }
   ],
   "source": [
    "num_classes = labels.max() - labels.min() + 1\n",
    "num_classes"
   ]
  },
  {
   "cell_type": "code",
   "execution_count": 5,
   "metadata": {
    "collapsed": false
   },
   "outputs": [
    {
     "data": {
      "text/plain": [
       "(28, 28, 18720)"
      ]
     },
     "execution_count": 5,
     "metadata": {},
     "output_type": "execute_result"
    }
   ],
   "source": [
    "images.shape"
   ]
  },
  {
   "cell_type": "code",
   "execution_count": 6,
   "metadata": {
    "collapsed": false
   },
   "outputs": [
    {
     "data": {
      "text/plain": [
       "(18720, 28, 28)"
      ]
     },
     "execution_count": 6,
     "metadata": {},
     "output_type": "execute_result"
    }
   ],
   "source": [
    "images.T.shape"
   ]
  },
  {
   "cell_type": "code",
   "execution_count": 7,
   "metadata": {
    "collapsed": false
   },
   "outputs": [
    {
     "data": {
      "text/plain": [
       "(18720, 1)"
      ]
     },
     "execution_count": 7,
     "metadata": {},
     "output_type": "execute_result"
    }
   ],
   "source": [
    "labels.shape"
   ]
  },
  {
   "cell_type": "code",
   "execution_count": 8,
   "metadata": {
    "collapsed": false
   },
   "outputs": [
    {
     "data": {
      "text/plain": [
       "(28, 28)"
      ]
     },
     "execution_count": 8,
     "metadata": {},
     "output_type": "execute_result"
    }
   ],
   "source": [
    "temp_img = images.T[1].T\n",
    "temp_img.shape"
   ]
  },
  {
   "cell_type": "code",
   "execution_count": 9,
   "metadata": {
    "collapsed": false
   },
   "outputs": [
    {
     "data": {
      "text/plain": [
       "<matplotlib.image.AxesImage at 0x10c038710>"
      ]
     },
     "execution_count": 9,
     "metadata": {},
     "output_type": "execute_result"
    },
    {
     "data": {
      "image/png": "[encoded data removed]",
      "text/plain": [
       "<matplotlib.figure.Figure at 0x10b17d150>"
      ]
     },
     "metadata": {},
     "output_type": "display_data"
    }
   ],
   "source": [
    "plt.imshow(temp_img, cmap=plt.gray())"
   ]
  },
  {
   "cell_type": "code",
   "execution_count": 10,
   "metadata": {
    "collapsed": false
   },
   "outputs": [
    {
     "name": "stdout",
     "output_type": "stream",
     "text": [
      "[7]\n"
     ]
    }
   ],
   "source": [
    "print labels[1]"
   ]
  },
  {
   "cell_type": "markdown",
   "metadata": {},
   "source": [
    "## Logistic Regression w/ Softmax"
   ]
  },
  {
   "cell_type": "markdown",
   "metadata": {},
   "source": [
    "- Softmax output layer\n",
    "- Log likelihood objective function\n",
    "- Train with no reg., SGD and momentum\n",
    "- Find good value for momentum hyper\n",
    "- Plot log likelihood / errors of training and valid vs number of epochs\n",
    "- Determine best time to stop training, and compute test errors on it\n",
    "\n",
    "$$y(\\mathbf{x}, \\mathbf{w}) = \\sigma (\\mathbf{x}^T \\mathbf{w} + b)$$"
   ]
  },
  {
   "cell_type": "markdown",
   "metadata": {},
   "source": [
    "#### Set up data"
   ]
  },
  {
   "cell_type": "code",
   "execution_count": 11,
   "metadata": {
    "collapsed": false
   },
   "outputs": [
    {
     "data": {
      "text/plain": [
       "(18720, 784)"
      ]
     },
     "execution_count": 11,
     "metadata": {},
     "output_type": "execute_result"
    }
   ],
   "source": [
    "images_re = images.reshape((images.shape[0] * images.shape[1], images.shape[2])).T\n",
    "images_re.shape"
   ]
  },
  {
   "cell_type": "code",
   "execution_count": 12,
   "metadata": {
    "collapsed": true
   },
   "outputs": [],
   "source": [
    "training_size = 15000\n",
    "validation_size = 1000"
   ]
  },
  {
   "cell_type": "code",
   "execution_count": 13,
   "metadata": {
    "collapsed": true
   },
   "outputs": [],
   "source": [
    "train_x = images_re[:training_size]\n",
    "valid_x = images_re[training_size:training_size + validation_size]\n",
    "test_x = images_re[training_size + validation_size:]"
   ]
  },
  {
   "cell_type": "markdown",
   "metadata": {},
   "source": [
    "#### Create one-hot labels"
   ]
  },
  {
   "cell_type": "code",
   "execution_count": 14,
   "metadata": {
    "collapsed": false
   },
   "outputs": [
    {
     "data": {
      "text/plain": [
       "18720"
      ]
     },
     "execution_count": 14,
     "metadata": {},
     "output_type": "execute_result"
    }
   ],
   "source": [
    "labels.size"
   ]
  },
  {
   "cell_type": "code",
   "execution_count": 15,
   "metadata": {
    "collapsed": false
   },
   "outputs": [
    {
     "data": {
      "text/plain": [
       "array([[4],\n",
       "       [7],\n",
       "       [5],\n",
       "       [9],\n",
       "       [9],\n",
       "       [1],\n",
       "       [0],\n",
       "       [8],\n",
       "       [5],\n",
       "       [5]], dtype=uint8)"
      ]
     },
     "execution_count": 15,
     "metadata": {},
     "output_type": "execute_result"
    }
   ],
   "source": [
    "labels[:10]"
   ]
  },
  {
   "cell_type": "code",
   "execution_count": 16,
   "metadata": {
    "collapsed": false
   },
   "outputs": [],
   "source": [
    "num_examples = labels.size\n",
    "labels_one_hot = np.zeros((num_examples, labels.max() - labels.min() + 1))\n",
    "labels_one_hot[np.arange(num_examples), labels[:num_examples].ravel()] = 1"
   ]
  },
  {
   "cell_type": "code",
   "execution_count": 17,
   "metadata": {
    "collapsed": false
   },
   "outputs": [
    {
     "data": {
      "text/plain": [
       "array([[ 0.,  0.,  0.,  0.,  1.,  0.,  0.,  0.,  0.,  0.],\n",
       "       [ 0.,  0.,  0.,  0.,  0.,  0.,  0.,  1.,  0.,  0.],\n",
       "       [ 0.,  0.,  0.,  0.,  0.,  1.,  0.,  0.,  0.,  0.],\n",
       "       [ 0.,  0.,  0.,  0.,  0.,  0.,  0.,  0.,  0.,  1.],\n",
       "       [ 0.,  0.,  0.,  0.,  0.,  0.,  0.,  0.,  0.,  1.],\n",
       "       [ 0.,  1.,  0.,  0.,  0.,  0.,  0.,  0.,  0.,  0.],\n",
       "       [ 1.,  0.,  0.,  0.,  0.,  0.,  0.,  0.,  0.,  0.],\n",
       "       [ 0.,  0.,  0.,  0.,  0.,  0.,  0.,  0.,  1.,  0.],\n",
       "       [ 0.,  0.,  0.,  0.,  0.,  1.,  0.,  0.,  0.,  0.],\n",
       "       [ 0.,  0.,  0.,  0.,  0.,  1.,  0.,  0.,  0.,  0.]])"
      ]
     },
     "execution_count": 17,
     "metadata": {},
     "output_type": "execute_result"
    }
   ],
   "source": [
    "labels_one_hot[:10]"
   ]
  },
  {
   "cell_type": "code",
   "execution_count": 18,
   "metadata": {
    "collapsed": true
   },
   "outputs": [],
   "source": [
    "train_y = labels_one_hot[:training_size]\n",
    "valid_y = labels_one_hot[training_size:training_size + validation_size]\n",
    "test_y = labels_one_hot[training_size + validation_size:]"
   ]
  },
  {
   "cell_type": "markdown",
   "metadata": {},
   "source": [
    "#### Try sklearn"
   ]
  },
  {
   "cell_type": "code",
   "execution_count": 25,
   "metadata": {
    "collapsed": false
   },
   "outputs": [
    {
     "data": {
      "text/plain": [
       "LogisticRegression(C=1.0, class_weight=None, dual=False, fit_intercept=True,\n",
       "          intercept_scaling=1, max_iter=100, multi_class='multinomial',\n",
       "          n_jobs=1, penalty='l2', random_state=None, solver='lbfgs',\n",
       "          tol=0.0001, verbose=0, warm_start=False)"
      ]
     },
     "execution_count": 25,
     "metadata": {},
     "output_type": "execute_result"
    }
   ],
   "source": [
    "from sklearn.linear_model import LogisticRegression\n",
    "lr = LogisticRegression(multi_class='multinomial', solver='lbfgs')\n",
    "lr.fit(train_x, labels[:training_size].ravel())"
   ]
  },
  {
   "cell_type": "code",
   "execution_count": 28,
   "metadata": {
    "collapsed": false
   },
   "outputs": [
    {
     "data": {
      "text/plain": [
       "0.93786666666666663"
      ]
     },
     "execution_count": 28,
     "metadata": {},
     "output_type": "execute_result"
    }
   ],
   "source": [
    "lr.score(train_x, labels[:training_size].ravel())"
   ]
  },
  {
   "cell_type": "code",
   "execution_count": 27,
   "metadata": {
    "collapsed": false
   },
   "outputs": [
    {
     "data": {
      "text/plain": [
       "0.878"
      ]
     },
     "execution_count": 27,
     "metadata": {},
     "output_type": "execute_result"
    }
   ],
   "source": [
    "lr.score(valid_x, labels[training_size:training_size + validation_size].ravel())"
   ]
  },
  {
   "cell_type": "code",
   "execution_count": 29,
   "metadata": {
    "collapsed": false
   },
   "outputs": [
    {
     "data": {
      "text/plain": [
       "0.87169117647058825"
      ]
     },
     "execution_count": 29,
     "metadata": {},
     "output_type": "execute_result"
    }
   ],
   "source": [
    "lr.score(test_x, labels[training_size + validation_size:].ravel())"
   ]
  },
  {
   "cell_type": "markdown",
   "metadata": {},
   "source": [
    "#### Set up TF variables"
   ]
  },
  {
   "cell_type": "code",
   "execution_count": 177,
   "metadata": {
    "collapsed": true
   },
   "outputs": [],
   "source": [
    "#Placeholders\n",
    "X = tf.placeholder(\"float\", shape=(None, 28 * 28))\n",
    "Targets = tf.placeholder(\"float\", shape=(None, num_classes))\n",
    "\n",
    "#Variables\n",
    "W = tf.Variable(np.zeros((28 * 28, num_classes)).astype(\"float32\"), name=\"weight\")\n",
    "b = tf.Variable(np.zeros((num_classes)).astype(\"float32\"), name=\"bias\")"
   ]
  },
  {
   "cell_type": "code",
   "execution_count": 178,
   "metadata": {
    "collapsed": false
   },
   "outputs": [],
   "source": [
    "logits = tf.add(tf.matmul(X, W), b)\n",
    "Y = tf.nn.softmax(logits)"
   ]
  },
  {
   "cell_type": "code",
   "execution_count": 179,
   "metadata": {
    "collapsed": false
   },
   "outputs": [
    {
     "data": {
      "text/plain": [
       "TensorShape([Dimension(None), Dimension(10)])"
      ]
     },
     "execution_count": 179,
     "metadata": {},
     "output_type": "execute_result"
    }
   ],
   "source": [
    "Y.get_shape()"
   ]
  },
  {
   "cell_type": "markdown",
   "metadata": {},
   "source": [
    "#### Try with CE loss function"
   ]
  },
  {
   "cell_type": "code",
   "execution_count": 180,
   "metadata": {
    "collapsed": false
   },
   "outputs": [],
   "source": [
    "cost_batch = tf.nn.softmax_cross_entropy_with_logits(logits=logits, labels=Targets)\n",
    "cost = tf.reduce_mean(cost_batch)"
   ]
  },
  {
   "cell_type": "code",
   "execution_count": 181,
   "metadata": {
    "collapsed": false
   },
   "outputs": [],
   "source": [
    "learning_rate = 0.01\n",
    "optimizer = tf.train.MomentumOptimizer(learning_rate=learning_rate, momentum=0.01)\n",
    "train_op = optimizer.minimize(cost)"
   ]
  },
  {
   "cell_type": "code",
   "execution_count": 182,
   "metadata": {
    "collapsed": true
   },
   "outputs": [],
   "source": [
    "correct_prediction = tf.equal(tf.argmax(Y,1), tf.argmax(Targets,1))\n",
    "accuracy = tf.reduce_mean(tf.cast(correct_prediction, \"float32\"))"
   ]
  },
  {
   "cell_type": "code",
   "execution_count": 183,
   "metadata": {
    "collapsed": false
   },
   "outputs": [],
   "source": [
    "sess = tf.InteractiveSession()"
   ]
  },
  {
   "cell_type": "code",
   "execution_count": 184,
   "metadata": {
    "collapsed": true
   },
   "outputs": [],
   "source": [
    "init = tf.initialize_all_variables()"
   ]
  },
  {
   "cell_type": "code",
   "execution_count": 185,
   "metadata": {
    "collapsed": true
   },
   "outputs": [],
   "source": [
    "sess.run(init)"
   ]
  },
  {
   "cell_type": "code",
   "execution_count": 193,
   "metadata": {
    "collapsed": true
   },
   "outputs": [],
   "source": [
    "num_epochs = 100\n",
    "mini_batch_size = 100"
   ]
  },
  {
   "cell_type": "code",
   "execution_count": 194,
   "metadata": {
    "collapsed": true
   },
   "outputs": [],
   "source": [
    "train_error = []\n",
    "valid_error = []"
   ]
  },
  {
   "cell_type": "code",
   "execution_count": 195,
   "metadata": {
    "collapsed": false,
    "scrolled": true
   },
   "outputs": [
    {
     "name": "stdout",
     "output_type": "stream",
     "text": [
      "Epoch:0000, cost=87.377334595, Train Accuracy=0.9435, Eval Accuracy=0.8250\n",
      "Epoch:0001, cost=88.935112000, Train Accuracy=0.9465, Eval Accuracy=0.8220\n",
      "Epoch:0002, cost=104.246414185, Train Accuracy=0.9405, Eval Accuracy=0.8350\n",
      "Epoch:0003, cost=135.623153687, Train Accuracy=0.9304, Eval Accuracy=0.8240\n",
      "Epoch:0004, cost=208.989654541, Train Accuracy=0.9064, Eval Accuracy=0.8130\n",
      "Epoch:0005, cost=82.913490295, Train Accuracy=0.9465, Eval Accuracy=0.8250\n",
      "Epoch:0006, cost=107.637985229, Train Accuracy=0.9372, Eval Accuracy=0.8270\n",
      "Epoch:0007, cost=106.713569641, Train Accuracy=0.9405, Eval Accuracy=0.8250\n",
      "Epoch:0008, cost=121.591773987, Train Accuracy=0.9299, Eval Accuracy=0.8260\n",
      "Epoch:0009, cost=94.206489563, Train Accuracy=0.9439, Eval Accuracy=0.8260\n",
      "Epoch:0010, cost=108.639060974, Train Accuracy=0.9386, Eval Accuracy=0.8310\n",
      "Epoch:0011, cost=155.262054443, Train Accuracy=0.9262, Eval Accuracy=0.8310\n",
      "Epoch:0012, cost=90.148757935, Train Accuracy=0.9461, Eval Accuracy=0.8270\n",
      "Epoch:0013, cost=101.397201538, Train Accuracy=0.9409, Eval Accuracy=0.8260\n",
      "Epoch:0014, cost=104.708900452, Train Accuracy=0.9377, Eval Accuracy=0.8190\n",
      "Epoch:0015, cost=123.800460815, Train Accuracy=0.9355, Eval Accuracy=0.8180\n",
      "Epoch:0016, cost=90.609039307, Train Accuracy=0.9455, Eval Accuracy=0.8280\n",
      "Epoch:0017, cost=95.112915039, Train Accuracy=0.9437, Eval Accuracy=0.8260\n",
      "Epoch:0018, cost=214.611053467, Train Accuracy=0.9051, Eval Accuracy=0.8090\n",
      "Epoch:0019, cost=101.299217224, Train Accuracy=0.9379, Eval Accuracy=0.8270\n",
      "Epoch:0020, cost=108.341377258, Train Accuracy=0.9387, Eval Accuracy=0.8250\n",
      "Epoch:0021, cost=130.115280151, Train Accuracy=0.9284, Eval Accuracy=0.8280\n",
      "Epoch:0022, cost=118.560089111, Train Accuracy=0.9317, Eval Accuracy=0.8290\n",
      "Epoch:0023, cost=93.016410828, Train Accuracy=0.9428, Eval Accuracy=0.8300\n",
      "Epoch:0024, cost=125.665153503, Train Accuracy=0.9325, Eval Accuracy=0.8260\n",
      "Epoch:0025, cost=113.675025940, Train Accuracy=0.9370, Eval Accuracy=0.8280\n",
      "Epoch:0026, cost=85.975830078, Train Accuracy=0.9473, Eval Accuracy=0.8280\n",
      "Epoch:0027, cost=136.546920776, Train Accuracy=0.9245, Eval Accuracy=0.8190\n",
      "Epoch:0028, cost=87.005691528, Train Accuracy=0.9479, Eval Accuracy=0.8250\n",
      "Epoch:0029, cost=152.759414673, Train Accuracy=0.9264, Eval Accuracy=0.8240\n",
      "Epoch:0030, cost=83.561424255, Train Accuracy=0.9457, Eval Accuracy=0.8230\n",
      "Epoch:0031, cost=77.967300415, Train Accuracy=0.9507, Eval Accuracy=0.8290\n",
      "Epoch:0032, cost=143.184066772, Train Accuracy=0.9335, Eval Accuracy=0.8300\n",
      "Epoch:0033, cost=92.293121338, Train Accuracy=0.9443, Eval Accuracy=0.8210\n",
      "Epoch:0034, cost=107.799667358, Train Accuracy=0.9406, Eval Accuracy=0.8260\n",
      "Epoch:0035, cost=98.960670471, Train Accuracy=0.9431, Eval Accuracy=0.8270\n",
      "Epoch:0036, cost=103.143768311, Train Accuracy=0.9393, Eval Accuracy=0.8280\n",
      "Epoch:0037, cost=77.203414917, Train Accuracy=0.9486, Eval Accuracy=0.8240\n",
      "Epoch:0038, cost=87.945426941, Train Accuracy=0.9445, Eval Accuracy=0.8260\n",
      "Epoch:0039, cost=79.917991638, Train Accuracy=0.9459, Eval Accuracy=0.8310\n",
      "Epoch:0040, cost=101.853393555, Train Accuracy=0.9387, Eval Accuracy=0.8300\n",
      "Epoch:0041, cost=83.292022705, Train Accuracy=0.9471, Eval Accuracy=0.8260\n",
      "Epoch:0042, cost=141.208770752, Train Accuracy=0.9281, Eval Accuracy=0.8260\n",
      "Epoch:0043, cost=109.693977356, Train Accuracy=0.9390, Eval Accuracy=0.8280\n",
      "Epoch:0044, cost=107.475990295, Train Accuracy=0.9363, Eval Accuracy=0.8220\n",
      "Epoch:0045, cost=89.318534851, Train Accuracy=0.9430, Eval Accuracy=0.8250\n",
      "Epoch:0046, cost=85.320686340, Train Accuracy=0.9463, Eval Accuracy=0.8300\n",
      "Epoch:0047, cost=83.597442627, Train Accuracy=0.9469, Eval Accuracy=0.8310\n",
      "Epoch:0048, cost=79.192779541, Train Accuracy=0.9464, Eval Accuracy=0.8280\n",
      "Epoch:0049, cost=70.830894470, Train Accuracy=0.9517, Eval Accuracy=0.8380\n",
      "Epoch:0050, cost=76.744819641, Train Accuracy=0.9489, Eval Accuracy=0.8260\n",
      "Epoch:0051, cost=90.930984497, Train Accuracy=0.9475, Eval Accuracy=0.8320\n",
      "Epoch:0052, cost=97.677185059, Train Accuracy=0.9404, Eval Accuracy=0.8320\n",
      "Epoch:0053, cost=78.821853638, Train Accuracy=0.9515, Eval Accuracy=0.8300\n",
      "Epoch:0054, cost=103.579093933, Train Accuracy=0.9407, Eval Accuracy=0.8220\n",
      "Epoch:0055, cost=120.984291077, Train Accuracy=0.9339, Eval Accuracy=0.8280\n",
      "Epoch:0056, cost=101.829765320, Train Accuracy=0.9416, Eval Accuracy=0.8270\n",
      "Epoch:0057, cost=108.441024780, Train Accuracy=0.9389, Eval Accuracy=0.8220\n",
      "Epoch:0058, cost=98.801002502, Train Accuracy=0.9416, Eval Accuracy=0.8260\n",
      "Epoch:0059, cost=105.442001343, Train Accuracy=0.9377, Eval Accuracy=0.8280\n",
      "Epoch:0060, cost=108.358360291, Train Accuracy=0.9369, Eval Accuracy=0.8270\n",
      "Epoch:0061, cost=82.470687866, Train Accuracy=0.9490, Eval Accuracy=0.8290\n",
      "Epoch:0062, cost=160.935882568, Train Accuracy=0.9237, Eval Accuracy=0.8290\n",
      "Epoch:0063, cost=113.403640747, Train Accuracy=0.9344, Eval Accuracy=0.8190\n",
      "Epoch:0064, cost=107.213569641, Train Accuracy=0.9360, Eval Accuracy=0.8290\n",
      "Epoch:0065, cost=154.461364746, Train Accuracy=0.9265, Eval Accuracy=0.8140\n",
      "Epoch:0066, cost=89.408233643, Train Accuracy=0.9425, Eval Accuracy=0.8260\n",
      "Epoch:0067, cost=90.589202881, Train Accuracy=0.9429, Eval Accuracy=0.8300\n",
      "Epoch:0068, cost=208.266479492, Train Accuracy=0.9171, Eval Accuracy=0.8150\n",
      "Epoch:0069, cost=102.208160400, Train Accuracy=0.9396, Eval Accuracy=0.8320\n",
      "Epoch:0070, cost=114.417572021, Train Accuracy=0.9341, Eval Accuracy=0.8270\n",
      "Epoch:0071, cost=89.483581543, Train Accuracy=0.9456, Eval Accuracy=0.8290\n",
      "Epoch:0072, cost=74.985992432, Train Accuracy=0.9518, Eval Accuracy=0.8330\n",
      "Epoch:0073, cost=85.233123779, Train Accuracy=0.9459, Eval Accuracy=0.8280\n",
      "Epoch:0074, cost=104.076965332, Train Accuracy=0.9396, Eval Accuracy=0.8280\n",
      "Epoch:0075, cost=79.052093506, Train Accuracy=0.9495, Eval Accuracy=0.8300\n",
      "Epoch:0076, cost=99.127365112, Train Accuracy=0.9384, Eval Accuracy=0.8200\n",
      "Epoch:0077, cost=79.760345459, Train Accuracy=0.9500, Eval Accuracy=0.8270\n",
      "Epoch:0078, cost=160.302673340, Train Accuracy=0.9270, Eval Accuracy=0.8240\n",
      "Epoch:0079, cost=137.013168335, Train Accuracy=0.9281, Eval Accuracy=0.8230\n",
      "Epoch:0080, cost=126.982803345, Train Accuracy=0.9351, Eval Accuracy=0.8290\n",
      "Epoch:0081, cost=115.389251709, Train Accuracy=0.9353, Eval Accuracy=0.8280\n",
      "Epoch:0082, cost=107.163833618, Train Accuracy=0.9357, Eval Accuracy=0.8220\n",
      "Epoch:0083, cost=80.633041382, Train Accuracy=0.9470, Eval Accuracy=0.8260\n",
      "Epoch:0084, cost=103.678001404, Train Accuracy=0.9349, Eval Accuracy=0.8300\n",
      "Epoch:0085, cost=123.541198730, Train Accuracy=0.9370, Eval Accuracy=0.8310\n",
      "Epoch:0086, cost=75.507575989, Train Accuracy=0.9509, Eval Accuracy=0.8320\n",
      "Epoch:0087, cost=102.443695068, Train Accuracy=0.9377, Eval Accuracy=0.8250\n",
      "Epoch:0088, cost=81.244621277, Train Accuracy=0.9445, Eval Accuracy=0.8250\n",
      "Epoch:0089, cost=100.740409851, Train Accuracy=0.9409, Eval Accuracy=0.8220\n",
      "Epoch:0090, cost=139.653930664, Train Accuracy=0.9251, Eval Accuracy=0.8280\n",
      "Epoch:0091, cost=85.739845276, Train Accuracy=0.9449, Eval Accuracy=0.8220\n",
      "Epoch:0092, cost=118.926490784, Train Accuracy=0.9332, Eval Accuracy=0.8200\n",
      "Epoch:0093, cost=80.122291565, Train Accuracy=0.9507, Eval Accuracy=0.8300\n",
      "Epoch:0094, cost=147.061004639, Train Accuracy=0.9229, Eval Accuracy=0.8210\n",
      "Epoch:0095, cost=90.884788513, Train Accuracy=0.9428, Eval Accuracy=0.8260\n",
      "Epoch:0096, cost=91.214073181, Train Accuracy=0.9422, Eval Accuracy=0.8260\n",
      "Epoch:0097, cost=66.957298279, Train Accuracy=0.9547, Eval Accuracy=0.8280\n",
      "Epoch:0098, cost=94.301582336, Train Accuracy=0.9459, Eval Accuracy=0.8310\n",
      "Epoch:0099, cost=93.984092712, Train Accuracy=0.9409, Eval Accuracy=0.8230\n"
     ]
    }
   ],
   "source": [
    "for epoch in range(num_epochs): \n",
    "    for i in range(training_size / mini_batch_size):\n",
    "        batch_x = train_x[i * mini_batch_size: (i + 1) * mini_batch_size]\n",
    "        batch_y = train_y[i * mini_batch_size: (i + 1) * mini_batch_size]\n",
    "\n",
    "        cost_np, _ = sess.run([cost, train_op], feed_dict={X: batch_x, Targets: batch_y})\n",
    "\n",
    "    #Display logs per epoch step\n",
    "    if epoch % num_epochs / 100 == 0:\n",
    "        cost_train, accuracy_train = sess.run([cost, accuracy], feed_dict={X: train_x, Targets: train_y})\n",
    "        cost_valid, accuracy_valid = sess.run([cost, accuracy], feed_dict={X: valid_x, Targets: valid_y})\n",
    "        \n",
    "        train_error.append(accuracy_train)\n",
    "        valid_error.append(accuracy_valid)\n",
    "        \n",
    "        print (\"Epoch:%04d, cost=%0.9f, Train Accuracy=%0.4f, Eval Accuracy=%0.4f\" %\n",
    "           (epoch, cost_train, accuracy_train, accuracy_valid))"
   ]
  },
  {
   "cell_type": "code",
   "execution_count": 196,
   "metadata": {
    "collapsed": false
   },
   "outputs": [
    {
     "name": "stdout",
     "output_type": "stream",
     "text": [
      "0.826838\n"
     ]
    }
   ],
   "source": [
    "print(sess.run(accuracy, feed_dict={X: test_x, Targets: test_y}))"
   ]
  },
  {
   "cell_type": "code",
   "execution_count": 197,
   "metadata": {
    "collapsed": false
   },
   "outputs": [
    {
     "data": {
      "text/plain": [
       "[<matplotlib.lines.Line2D at 0x112278b10>]"
      ]
     },
     "execution_count": 197,
     "metadata": {},
     "output_type": "execute_result"
    },
    {
     "data": {
      "image/png": "[encoded data removed]",
      "text/plain": [
       "<matplotlib.figure.Figure at 0x112278750>"
      ]
     },
     "metadata": {},
     "output_type": "display_data"
    }
   ],
   "source": [
    "plt.plot(np.arange(num_epochs), train_error)\n",
    "plt.plot(np.arange(num_epochs), valid_error)"
   ]
  },
  {
   "cell_type": "code",
   "execution_count": 198,
   "metadata": {
    "collapsed": true
   },
   "outputs": [],
   "source": [
    "sess.close()"
   ]
  },
  {
   "cell_type": "code",
   "execution_count": null,
   "metadata": {
    "collapsed": true
   },
   "outputs": [],
   "source": []
  }
 ],
 "metadata": {
  "kernelspec": {
   "display_name": "Python 2",
   "language": "python",
   "name": "python2"
  },
  "language_info": {
   "codemirror_mode": {
    "name": "ipython",
    "version": 2
   },
   "file_extension": ".py",
   "mimetype": "text/x-python",
   "name": "python",
   "nbconvert_exporter": "python",
   "pygments_lexer": "ipython2",
   "version": "2.7.11"
  }
 },
 "nbformat": 4,
 "nbformat_minor": 0
}
