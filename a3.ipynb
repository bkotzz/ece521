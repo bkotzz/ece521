{
 "cells": [
  {
   "cell_type": "markdown",
   "metadata": {},
   "source": [
    "### A3"
   ]
  },
  {
   "cell_type": "code",
   "execution_count": 220,
   "metadata": {
    "collapsed": false
   },
   "outputs": [],
   "source": [
    "import numpy as np\n",
    "import tensorflow as tf\n",
    "\n",
    "from collections import Counter\n",
    "\n",
    "from utils import reduce_logsumexp\n",
    "\n",
    "import matplotlib.pyplot as plt\n",
    "%matplotlib inline"
   ]
  },
  {
   "cell_type": "markdown",
   "metadata": {},
   "source": [
    "### 1.1"
   ]
  },
  {
   "cell_type": "markdown",
   "metadata": {},
   "source": [
    "1. You can implement the squared euclidean distance function between a B x D matrix X and a K x D matrix Y as\n",
    "$(X-Y)^T(X-Y) = XX^T -2XY^T + YY^T$. This is equivalent to expanding the product of the differences."
   ]
  },
  {
   "cell_type": "markdown",
   "metadata": {},
   "source": [
    "2."
   ]
  },
  {
   "cell_type": "code",
   "execution_count": 2,
   "metadata": {
    "collapsed": false
   },
   "outputs": [
    {
     "data": {
      "text/plain": [
       "array([[ 1.,  1.],\n",
       "       [ 2.,  2.]], dtype=float32)"
      ]
     },
     "execution_count": 2,
     "metadata": {},
     "output_type": "execute_result"
    }
   ],
   "source": [
    "x_np = np.array([[1, 1], [2, 2]]).astype(\"float32\")\n",
    "x_np"
   ]
  },
  {
   "cell_type": "code",
   "execution_count": 3,
   "metadata": {
    "collapsed": false
   },
   "outputs": [
    {
     "data": {
      "text/plain": [
       "array([[ 1.,  1.],\n",
       "       [ 2.,  2.],\n",
       "       [ 3.,  3.]], dtype=float32)"
      ]
     },
     "execution_count": 3,
     "metadata": {},
     "output_type": "execute_result"
    }
   ],
   "source": [
    "y_np = np.array([[1, 1], [2, 2], [3, 3]]).astype(\"float32\")\n",
    "y_np"
   ]
  },
  {
   "cell_type": "code",
   "execution_count": 4,
   "metadata": {
    "collapsed": true
   },
   "outputs": [],
   "source": [
    "X = tf.Variable(x_np)"
   ]
  },
  {
   "cell_type": "code",
   "execution_count": 5,
   "metadata": {
    "collapsed": true
   },
   "outputs": [],
   "source": [
    "Y = tf.Variable(y_np)"
   ]
  },
  {
   "cell_type": "code",
   "execution_count": 6,
   "metadata": {
    "collapsed": true
   },
   "outputs": [],
   "source": [
    "def matDistance(X, Y):\n",
    "    # X is N X D\n",
    "    # Y is K x D\n",
    "    \n",
    "    assert X.get_shape()[1] == Y.get_shape()[1]\n",
    "    \n",
    "    Y_T = tf.transpose(Y)\n",
    "    \n",
    "    # Element-wise multiplication\n",
    "    XX = tf.mul(X, X) \n",
    "    YY = tf.mul(Y_T, Y_T)\n",
    "    \n",
    "    # Sum XX along row, and YY along column\n",
    "    XX = tf.reshape(tf.reduce_sum(XX, 1), [-1, 1]) # N x 1\n",
    "    YY = tf.reshape(tf.reduce_sum(YY, 0), [1, -1]) # 1 x K\n",
    "    XY = tf.mul(2.0, tf.matmul(X, Y_T))            # N x K\n",
    "    \n",
    "    return XX - XY + YY"
   ]
  },
  {
   "cell_type": "code",
   "execution_count": 78,
   "metadata": {
    "collapsed": false
   },
   "outputs": [],
   "source": [
    "dist = matDistance(X, Y)"
   ]
  },
  {
   "cell_type": "code",
   "execution_count": 81,
   "metadata": {
    "collapsed": false
   },
   "outputs": [
    {
     "name": "stdout",
     "output_type": "stream",
     "text": [
      "[[ 0.  2.  8.]\n",
      " [ 2.  0.  2.]]\n"
     ]
    }
   ],
   "source": [
    "init = tf.initialize_all_variables()\n",
    "\n",
    "with tf.Session() as sess:\n",
    "    sess.run(init)\n",
    "    v = sess.run(dist)    \n",
    "    print v # will show you your variable."
   ]
  },
  {
   "cell_type": "markdown",
   "metadata": {
    "collapsed": true
   },
   "source": [
    "### 1.2"
   ]
  },
  {
   "cell_type": "markdown",
   "metadata": {},
   "source": [
    "1. The loss function is not convex. The algorithm is guaranteed to converge, but may converge to a local minima, not a global one. Mathematically, the loss function is not convex because it is not defined on a convex set. Intuitively, we can see this in a trivial example, where the solution is non-unique. Consider the datapoints in the cartesian plane {(0, 0), (0, 2), (2, 2), (2, 0)}. For K = 2, we have a local minima for $\\mu$ = {(0, 1), (2, 1)} and another for $\\mu$ = {(1, 0), (1, 2)}. The existence of multiple local minima imples the loss function is not convex."
   ]
  },
  {
   "cell_type": "code",
   "execution_count": 8,
   "metadata": {
    "collapsed": false
   },
   "outputs": [],
   "source": [
    "data = np.load('data2D.npy')"
   ]
  },
  {
   "cell_type": "code",
   "execution_count": 10,
   "metadata": {
    "collapsed": false
   },
   "outputs": [
    {
     "data": {
      "text/plain": [
       "(10000, 2)"
      ]
     },
     "execution_count": 10,
     "metadata": {},
     "output_type": "execute_result"
    }
   ],
   "source": [
    "data.shape"
   ]
  },
  {
   "cell_type": "code",
   "execution_count": 15,
   "metadata": {
    "collapsed": false
   },
   "outputs": [
    {
     "data": {
      "text/plain": [
       "<matplotlib.collections.PathCollection at 0x10bd846d0>"
      ]
     },
     "execution_count": 15,
     "metadata": {},
     "output_type": "execute_result"
    },
    {
     "data": {
      "image/png": "[encoded data removed]",
      "text/plain": [
       "<matplotlib.figure.Figure at 0x10af4b8d0>"
      ]
     },
     "metadata": {},
     "output_type": "display_data"
    }
   ],
   "source": [
    "plt.scatter(data.T[0], data.T[1])"
   ]
  },
  {
   "cell_type": "code",
   "execution_count": 17,
   "metadata": {
    "collapsed": false
   },
   "outputs": [
    {
     "data": {
      "text/plain": [
       "(10000, 2)"
      ]
     },
     "execution_count": 17,
     "metadata": {},
     "output_type": "execute_result"
    }
   ],
   "source": [
    "data.shape"
   ]
  },
  {
   "cell_type": "code",
   "execution_count": 16,
   "metadata": {
    "collapsed": true
   },
   "outputs": [],
   "source": [
    "def mu_var(shape):\n",
    "  initial = tf.truncated_normal(shape, stddev=0.25)\n",
    "  return tf.Variable(initial)"
   ]
  },
  {
   "cell_type": "code",
   "execution_count": 176,
   "metadata": {
    "collapsed": true
   },
   "outputs": [],
   "source": [
    "def k_means(K, data, learning_rate, num_epochs, validation_start):\n",
    "    \n",
    "    training_data   = data[:validation_start]\n",
    "    validation_data = data[validation_start:]\n",
    "    \n",
    "    N = training_data.shape[0]\n",
    "    D = training_data.shape[1]\n",
    "    \n",
    "    X = tf.placeholder(\"float\", shape=(None, D)) # N x D\n",
    "    mu = mu_var((K, D)) # K x D\n",
    "    \n",
    "    dist = matDistance(X, mu) # N x K\n",
    "    \n",
    "    # Take the minimum across all K\n",
    "    min_dist = tf.reduce_min(dist, 1) # N x 1\n",
    "    \n",
    "    # Sum across all training examples\n",
    "    L = tf.reduce_sum(min_dist, 0)\n",
    "    \n",
    "    optimizer = tf.train.AdamOptimizer(learning_rate, beta1=0.9, beta2=0.99, epsilon=1e-5)\n",
    "    train_op = optimizer.minimize(L)\n",
    "    \n",
    "    # Determine cluster assignments\n",
    "    assg = tf.argmin(dist, 1)\n",
    "    \n",
    "    init = tf.initialize_all_variables()\n",
    "    \n",
    "    loss_results = np.zeros(num_epochs)\n",
    "    \n",
    "    with tf.Session() as sess:\n",
    "        sess.run(init)\n",
    "        \n",
    "        for epoch in range(num_epochs):\n",
    "            loss, _ = sess.run([L, train_op], feed_dict={X: training_data})\n",
    "            loss_results[epoch] = loss\n",
    "            \n",
    "        cluster_assignments = sess.run(assg, feed_dict={X: training_data})\n",
    "        validation_loss     = sess.run(L,    feed_dict={X: validation_data})\n",
    "        \n",
    "    return loss_results, cluster_assignments, validation_loss"
   ]
  },
  {
   "cell_type": "code",
   "execution_count": 99,
   "metadata": {
    "collapsed": true
   },
   "outputs": [],
   "source": [
    "def plot_loss(num_epochs, loss):\n",
    "    plt.plot(np.arange(num_epochs), loss)\n",
    "    plt.title('Loss vs Number of Epochs')\n",
    "    plt.xlabel('Number of Epochs')\n",
    "    plt.ylabel('Loss')"
   ]
  },
  {
   "cell_type": "code",
   "execution_count": 160,
   "metadata": {
    "collapsed": true
   },
   "outputs": [],
   "source": [
    "def plot_scatter(data, cluster_assg, K):\n",
    "    col_it = iter(plt.cm.rainbow(np.linspace(0,1,K)))\n",
    "    for i in range(K):\n",
    "        cluster_data = data[cluster_assg == i].T\n",
    "        plt.scatter(cluster_data[0], cluster_data[1], color=next(col_it))\n",
    "    plt.show()"
   ]
  },
  {
   "cell_type": "markdown",
   "metadata": {},
   "source": [
    "2."
   ]
  },
  {
   "cell_type": "code",
   "execution_count": 164,
   "metadata": {
    "collapsed": true
   },
   "outputs": [],
   "source": [
    "num_epochs = 500\n",
    "learning_rate = 0.01\n",
    "K = 3"
   ]
  },
  {
   "cell_type": "code",
   "execution_count": 177,
   "metadata": {
    "collapsed": false
   },
   "outputs": [
    {
     "name": "stdout",
     "output_type": "stream",
     "text": [
      "Final Loss:  5129.78564453\n"
     ]
    }
   ],
   "source": [
    "loss_results, cluster_assg, _ = k_means(K, data, learning_rate, num_epochs, len(data))\n",
    "print 'Final Loss: ', loss_results.min()"
   ]
  },
  {
   "cell_type": "code",
   "execution_count": 178,
   "metadata": {
    "collapsed": true
   },
   "outputs": [],
   "source": [
    "a = np.zeros(5)"
   ]
  },
  {
   "cell_type": "code",
   "execution_count": 179,
   "metadata": {
    "collapsed": false
   },
   "outputs": [
    {
     "data": {
      "image/png": "[encoded data removed]",
      "text/plain": [
       "<matplotlib.figure.Figure at 0x112c58c10>"
      ]
     },
     "metadata": {},
     "output_type": "display_data"
    }
   ],
   "source": [
    "plot_loss(num_epochs, loss_results)"
   ]
  },
  {
   "cell_type": "markdown",
   "metadata": {},
   "source": [
    "3."
   ]
  },
  {
   "cell_type": "code",
   "execution_count": 180,
   "metadata": {
    "collapsed": false,
    "scrolled": true
   },
   "outputs": [
    {
     "name": "stdout",
     "output_type": "stream",
     "text": [
      "K = 1\n",
      "Final Loss:  38453.34375\n",
      "% of points in each cluster:  {0: 100.0}\n"
     ]
    },
    {
     "data": {
      "image/png": "[encoded data removed]",
      "text/plain": [
       "<matplotlib.figure.Figure at 0x11423df50>"
      ]
     },
     "metadata": {},
     "output_type": "display_data"
    },
    {
     "name": "stdout",
     "output_type": "stream",
     "text": [
      "K = 2\n",
      "Final Loss:  9203.76464844\n",
      "% of points in each cluster:  {0: 50.51, 1: 49.49}\n"
     ]
    },
    {
     "data": {
      "image/png": "[encoded data removed]",
      "text/plain": [
       "<matplotlib.figure.Figure at 0x116939fd0>"
      ]
     },
     "metadata": {},
     "output_type": "display_data"
    },
    {
     "name": "stdout",
     "output_type": "stream",
     "text": [
      "K = 3\n",
      "Final Loss:  5178.10009766\n",
      "% of points in each cluster:  {0: 37.88, 1: 23.4, 2: 38.72}\n"
     ]
    },
    {
     "data": {
      "image/png": "[encoded data removed]",
      "text/plain": [
       "<matplotlib.figure.Figure at 0x113b68590>"
      ]
     },
     "metadata": {},
     "output_type": "display_data"
    },
    {
     "name": "stdout",
     "output_type": "stream",
     "text": [
      "K = 4\n",
      "Final Loss:  3389.66748047\n",
      "% of points in each cluster:  {0: 12.01, 1: 37.34, 2: 37.25, 3: 13.4}\n"
     ]
    },
    {
     "data": {
      "image/png": "[encoded data removed]",
      "text/plain": [
       "<matplotlib.figure.Figure at 0x113a90e50>"
      ]
     },
     "metadata": {},
     "output_type": "display_data"
    },
    {
     "name": "stdout",
     "output_type": "stream",
     "text": [
      "K = 5\n",
      "Final Loss:  2932.72143555\n",
      "% of points in each cluster:  {0: 37.37, 1: 37.0, 2: 7.34, 3: 11.72, 4: 6.57}\n"
     ]
    },
    {
     "data": {
      "image/png": "[encoded data removed]",
      "text/plain": [
       "<matplotlib.figure.Figure at 0x113b30410>"
      ]
     },
     "metadata": {},
     "output_type": "display_data"
    }
   ],
   "source": [
    "for k in range(1, 6):\n",
    "    print 'K = {}'.format(k)\n",
    "    \n",
    "    loss_results, cluster_assg, _ = k_means(k, data, learning_rate, num_epochs, len(data))\n",
    "    print 'Final Loss: ', loss_results.min()\n",
    "    \n",
    "    samples_per_cluster = dict(Counter(cluster_assg))\n",
    "    samples_per_cluster.update((x, y * 100.0 / data.shape[0]) for x, y in samples_per_cluster.items())\n",
    "    print '% of points in each cluster: ', samples_per_cluster\n",
    "    \n",
    "    plot_scatter(data, cluster_assg, k)"
   ]
  },
  {
   "cell_type": "markdown",
   "metadata": {},
   "source": [
    "I would argue that 5 clusters is the best. It has the lowest loss, and best explains the variance of the data. The cluster centers are fairly representative of their assigned training points, and the distances between the centers of the different clusters are fairly significant. Using fewer clusters would mean that too much of the signal in the data is lost in the cluster prototypes. You can see from the plots that having 5 clusters helps to reduce the variance within each cluster, and forms natural-looking clumps from the data, rather than slices."
   ]
  },
  {
   "cell_type": "markdown",
   "metadata": {},
   "source": [
    "4."
   ]
  },
  {
   "cell_type": "code",
   "execution_count": 182,
   "metadata": {
    "collapsed": false
   },
   "outputs": [
    {
     "name": "stdout",
     "output_type": "stream",
     "text": [
      "K = 1\n",
      "Final Training Loss:  25493.03125\n",
      "Final Validation Loss:  12969.2\n",
      "K = 2\n",
      "Final Training Loss:  6139.40380859\n",
      "Final Validation Loss:  3067.88\n",
      "K = 3\n",
      "Final Training Loss:  3427.63549805\n",
      "Final Validation Loss:  1700.2\n",
      "K = 4\n",
      "Final Training Loss:  2298.76928711\n",
      "Final Validation Loss:  1115.75\n",
      "K = 5\n",
      "Final Training Loss:  1948.23840332\n",
      "Final Validation Loss:  956.653\n"
     ]
    }
   ],
   "source": [
    "validation_start = 2 * len(data) / 3\n",
    "for k in range(1, 6):\n",
    "    print 'K = {}'.format(k)\n",
    "    \n",
    "    loss_results, cluster_assg, validation_loss = k_means(k, data, learning_rate, num_epochs, validation_start)\n",
    "    print 'Final Training Loss: ',   loss_results.min()\n",
    "    print 'Final Validation Loss: ', validation_loss"
   ]
  },
  {
   "cell_type": "markdown",
   "metadata": {},
   "source": [
    "I would again argue that 5 clusters is the best, as it has the lowest validation loss.\n",
    "\n",
    "Note that the validation losses look larger than the training losses, as the training loss sums over twice as many datapoints."
   ]
  },
  {
   "cell_type": "markdown",
   "metadata": {},
   "source": [
    "### 2.1"
   ]
  },
  {
   "cell_type": "markdown",
   "metadata": {},
   "source": [
    "1."
   ]
  },
  {
   "cell_type": "markdown",
   "metadata": {},
   "source": [
    "$P(z|x) = \\frac{P(x, z)}{\\sum_{z'=1}^{K}P(x, z')}$"
   ]
  },
  {
   "cell_type": "markdown",
   "metadata": {},
   "source": [
    " where $P(z) = \\prod_{k=1}^{K}\\pi_{k}^{z_k}$\n",
    " and $P(x|z) = \\prod_{k=1}^{K}\\mathcal{N}(x|\\mu_k, \\sigma_k^2)^{z_k}$"
   ]
  },
  {
   "cell_type": "markdown",
   "metadata": {},
   "source": [
    " so $P(x,z) = \\prod_{k=1}^{K}[\\pi_k\\mathcal{N}(x|\\mu_k, \\sigma_k^2)]^{z_k}$"
   ]
  },
  {
   "cell_type": "markdown",
   "metadata": {},
   "source": [
    "Therefore, $P(z|x) = \\frac{\\prod_{k=1}^{K}[\\pi_k\\mathcal{N}(x|\\mu_k, \\sigma_k^2)]^{z_k}}{\\sum_{k=1}^{K}\\pi_k\\mathcal{N}(x|\\mu_k, \\sigma_k^2)}$"
   ]
  },
  {
   "cell_type": "markdown",
   "metadata": {},
   "source": [
    "And $P(z=k|x) = \\frac{\\pi_k\\mathcal{N}(x|\\mu_k, \\sigma_k^2)}{\\sum_{k'=1}^{K}\\pi_{k'}\\mathcal{N}(x|\\mu_{k'}, \\sigma_{k'}^2)}$"
   ]
  },
  {
   "cell_type": "markdown",
   "metadata": {},
   "source": [
    "2."
   ]
  },
  {
   "cell_type": "code",
   "execution_count": 214,
   "metadata": {
    "collapsed": true
   },
   "outputs": [],
   "source": [
    "x_np = np.array([[1, 1], [2, 2]]).astype(\"float32\")\n",
    "mu_np = np.array([[1, 1], [2, 2], [3, 3]]).astype(\"float32\")\n",
    "var_np = np.array([[2, 2, 2]]).astype(\"float32\")"
   ]
  },
  {
   "cell_type": "code",
   "execution_count": 215,
   "metadata": {
    "collapsed": false
   },
   "outputs": [],
   "source": [
    "X = tf.Variable(x_np)\n",
    "mu = tf.Variable(mu_np)\n",
    "var = tf.Variable(var_np)"
   ]
  },
  {
   "cell_type": "code",
   "execution_count": 216,
   "metadata": {
    "collapsed": true
   },
   "outputs": [],
   "source": [
    "def logGaussianPdf(X, mu, var):\n",
    "    # We should have a D x D covariance matrix for each of the K\n",
    "    # clusters. But each covariance matrix is a diagonal, and the\n",
    "    # variance along the diagonal is the same for each cluster. So,\n",
    "    # we can represent this with just a column vector of variances,\n",
    "    # one for each cluster.\n",
    "    #\n",
    "    # X   is N X D\n",
    "    # mu  is K x D\n",
    "    # var is 1 x K\n",
    "\n",
    "    assert X.get_shape()[1] == mu.get_shape()[1]\n",
    "    assert mu.get_shape()[0] == var.get_shape()[1]\n",
    "    \n",
    "    dist = matDistance(X, mu) # N x K\n",
    "    \n",
    "    inv_var = 1 / var # 1 x K\n",
    "    dist_inv_var = tf.mul(dist, inv_var) # N x K\n",
    "    \n",
    "    log_two_pi_variance = tf.log(2 * np.pi * var)  # 1 x K\n",
    "    \n",
    "    return -0.5 * (log_two_pi_variance + dist_inv_var) # N x K"
   ]
  },
  {
   "cell_type": "code",
   "execution_count": 263,
   "metadata": {
    "collapsed": false
   },
   "outputs": [
    {
     "name": "stdout",
     "output_type": "stream",
     "text": [
      "[[-1.26551211 -1.76551211 -3.26551199]\n",
      " [-1.76551211 -1.26551211 -1.76551211]]\n"
     ]
    }
   ],
   "source": [
    "log_prob = logGaussianPdf(X, mu, var)\n",
    "\n",
    "init = tf.initialize_all_variables()\n",
    "\n",
    "with tf.Session() as sess:\n",
    "    sess.run(init)\n",
    "    v = sess.run(log_prob)    \n",
    "    print v # will show you your variable."
   ]
  },
  {
   "cell_type": "code",
   "execution_count": 264,
   "metadata": {
    "collapsed": false
   },
   "outputs": [
    {
     "data": {
      "text/plain": [
       "array([[ 0.28209481,  0.17109914,  0.03817738],\n",
       "       [ 0.17109914,  0.28209481,  0.17109914]], dtype=float32)"
      ]
     },
     "execution_count": 264,
     "metadata": {},
     "output_type": "execute_result"
    }
   ],
   "source": [
    "np.exp(v)"
   ]
  },
  {
   "cell_type": "markdown",
   "metadata": {},
   "source": [
    "3."
   ]
  },
  {
   "cell_type": "markdown",
   "metadata": {},
   "source": [
    "It is possible to use tf.reduce_sum instead of the logsumexp function. you can compute the gaussian pdf instead of the log gaussian pdf, and then multiply it by the pi vector. Then you can use a reduce_sum across the rows, and take the logarithm of the resulting column. The advantage of using the log_sum_exp is to increase accuracy and try to avoid underflow/overflow issues with either very small or very large numbers in the linear domain, when using limited precision floating point numbers. Summing exponential functions (like the gaussian pdf) are extremely prone to numerical issues, even with relatively behaved inputs. The trick lies in subtracting the max from each data point, and adding it back later. This guarantees that all exponentials have a negative exponent, meaning the largest value you will exponentiate will be zero. Summing together numbers less than or equal to one will not result in overflow, and even if some numbers underflow, the result will still be reasonable."
   ]
  },
  {
   "cell_type": "code",
   "execution_count": 270,
   "metadata": {
    "collapsed": true
   },
   "outputs": [],
   "source": [
    "pi_np = np.array([0.1, 0.3, 0.6]).astype('float32')"
   ]
  },
  {
   "cell_type": "code",
   "execution_count": 271,
   "metadata": {
    "collapsed": false
   },
   "outputs": [
    {
     "data": {
      "text/plain": [
       "array([[-1.2896744 , -0.69106209, -1.49791479],\n",
       "       [-2.48041034, -0.88179785, -0.68865085]], dtype=float32)"
      ]
     },
     "execution_count": 271,
     "metadata": {},
     "output_type": "execute_result"
    }
   ],
   "source": [
    "# What we expect, using numpy\n",
    "a = np.exp(v) * pi_np\n",
    "b = a.sum(1)\n",
    "c = a / b.reshape(-1, 1)\n",
    "np.log(c)"
   ]
  },
  {
   "cell_type": "code",
   "execution_count": 272,
   "metadata": {
    "collapsed": false
   },
   "outputs": [],
   "source": [
    "pi = tf.Variable(pi_np)"
   ]
  },
  {
   "cell_type": "code",
   "execution_count": 273,
   "metadata": {
    "collapsed": false
   },
   "outputs": [],
   "source": [
    "def logProbZgivenX(X, mu, var, pi):\n",
    "    # X   is N X D\n",
    "    # mu  is K x D\n",
    "    # var is 1 x K\n",
    "    # z   is N x K - (one of K encoding)\n",
    "    # pi  is 1 x K\n",
    "    \n",
    "    log_gaussian = logGaussianPdf(X, mu, var) # N x K\n",
    "    log_pi = tf.log(pi) # 1 x K\n",
    "    \n",
    "    log_pi_gaussian = log_pi + log_gaussian # N x K\n",
    "    log_sum_pi_gaussian = tf.reshape(reduce_logsumexp(log_pi_gaussian, 1), [-1, 1]) # N x 1\n",
    "    \n",
    "    return log_pi_gaussian - log_sum_pi_gaussian\n",
    "    "
   ]
  },
  {
   "cell_type": "code",
   "execution_count": 274,
   "metadata": {
    "collapsed": false
   },
   "outputs": [],
   "source": [
    "log_prob = logProbZgivenX(X, mu, var, pi)\n",
    "\n",
    "init = tf.initialize_all_variables()\n",
    "\n",
    "with tf.Session() as sess:\n",
    "    sess.run(init)\n",
    "    q = sess.run(log_prob)"
   ]
  },
  {
   "cell_type": "code",
   "execution_count": 275,
   "metadata": {
    "collapsed": false
   },
   "outputs": [
    {
     "name": "stdout",
     "output_type": "stream",
     "text": [
      "[[-1.28967428 -0.69106197 -1.49791479]\n",
      " [-2.4804101  -0.88179791 -0.68865073]]\n"
     ]
    }
   ],
   "source": [
    "print q"
   ]
  },
  {
   "cell_type": "markdown",
   "metadata": {},
   "source": [
    "### 2.2"
   ]
  },
  {
   "cell_type": "markdown",
   "metadata": {},
   "source": [
    "1."
   ]
  },
  {
   "cell_type": "markdown",
   "metadata": {},
   "source": [
    "We make use of the chain rule, where $\\nabla \\log f(x) = \\frac{\\nabla f(x)}{f(x)}$"
   ]
  },
  {
   "cell_type": "markdown",
   "metadata": {},
   "source": [
    "For the left side, we have $\\nabla \\log P(x) = \\frac{\\nabla P(x)}{P(x)}$"
   ]
  },
  {
   "cell_type": "markdown",
   "metadata": {},
   "source": [
    "For the right side, we make use of Bayes rule, and the linearity of the gradient operator:\n",
    "\\begin{align*}\n",
    "\\sum_k P(z = k | x) \\nabla \\log P(x, z) \\\\ \n",
    "\\sum_k P(z = k | x) \\frac{\\nabla P(x, z = k)}{P(x, z = k)} \\\\\n",
    "\\sum_k \\frac{\\nabla P(x, z = k)}{P(x)} \\\\\n",
    "\\frac{1}{P(x)} \\sum_k \\nabla P(x, z = k) \\\\\n",
    "\\frac{1}{P(x)} \\nabla \\sum_k P(x, z = k) \\\\\n",
    "\\frac{\\nabla P(x)}{P(x)} \\\\\n",
    "\\end{align*}"
   ]
  },
  {
   "cell_type": "code",
   "execution_count": null,
   "metadata": {
    "collapsed": true
   },
   "outputs": [],
   "source": []
  }
 ],
 "metadata": {
  "kernelspec": {
   "display_name": "Python 2",
   "language": "python",
   "name": "python2"
  },
  "language_info": {
   "codemirror_mode": {
    "name": "ipython",
    "version": 2
   },
   "file_extension": ".py",
   "mimetype": "text/x-python",
   "name": "python",
   "nbconvert_exporter": "python",
   "pygments_lexer": "ipython2",
   "version": "2.7.11"
  }
 },
 "nbformat": 4,
 "nbformat_minor": 0
}
