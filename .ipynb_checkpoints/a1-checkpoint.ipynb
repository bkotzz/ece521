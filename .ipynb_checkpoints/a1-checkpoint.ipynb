{
 "cells": [
  {
   "cell_type": "markdown",
   "metadata": {},
   "source": [
    "## A1"
   ]
  },
  {
   "cell_type": "code",
   "execution_count": 145,
   "metadata": {
    "collapsed": true
   },
   "outputs": [],
   "source": [
    "# Imports\n",
    "%matplotlib inline\n",
    "\n",
    "import numpy as np\n",
    "from matplotlib import pyplot as plt\n",
    "from sklearn import neighbors, linear_model"
   ]
  },
  {
   "cell_type": "markdown",
   "metadata": {},
   "source": [
    "#### Artificial Dataset"
   ]
  },
  {
   "cell_type": "code",
   "execution_count": 15,
   "metadata": {
    "collapsed": false
   },
   "outputs": [],
   "source": [
    "train_x = np.linspace(1.0, 10.0, num=100)[:, np.newaxis] \n",
    "train_y = np.sin(train_x) + 0.1 * np.power(train_x , 2) + 0.5 * np.random.randn(100, 1)"
   ]
  },
  {
   "cell_type": "code",
   "execution_count": 14,
   "metadata": {
    "collapsed": false
   },
   "outputs": [
    {
     "data": {
      "text/plain": [
       "array([[ 1.        ],\n",
       "       [ 1.09090909],\n",
       "       [ 1.18181818],\n",
       "       [ 1.27272727],\n",
       "       [ 1.36363636]])"
      ]
     },
     "execution_count": 14,
     "metadata": {},
     "output_type": "execute_result"
    }
   ],
   "source": [
    "train_x[:5]"
   ]
  },
  {
   "cell_type": "code",
   "execution_count": 18,
   "metadata": {
    "collapsed": false
   },
   "outputs": [
    {
     "name": "stdout",
     "output_type": "stream",
     "text": [
      "[[ 1.46912795]\n",
      " [ 1.44977228]\n",
      " [ 0.39722324]\n",
      " [ 1.13460275]\n",
      " [ 1.14766515]]\n"
     ]
    }
   ],
   "source": [
    "print(train_y[:5])"
   ]
  },
  {
   "cell_type": "code",
   "execution_count": 23,
   "metadata": {
    "collapsed": false
   },
   "outputs": [
    {
     "data": {
      "text/plain": [
       "<matplotlib.figure.Figure at 0x105a2ae10>"
      ]
     },
     "execution_count": 23,
     "metadata": {},
     "output_type": "execute_result"
    },
    {
     "data": {
      "text/plain": [
       "<matplotlib.figure.Figure at 0x105a2ae10>"
      ]
     },
     "metadata": {},
     "output_type": "display_data"
    }
   ],
   "source": [
    "plt.figure()"
   ]
  },
  {
   "cell_type": "code",
   "execution_count": 24,
   "metadata": {
    "collapsed": false
   },
   "outputs": [
    {
     "data": {
      "text/plain": [
       "[<matplotlib.lines.Line2D at 0x108849160>]"
      ]
     },
     "execution_count": 24,
     "metadata": {},
     "output_type": "execute_result"
    },
    {
     "data": {
      "image/png": "[encoded data removed]",
      "text/plain": [
       "<matplotlib.figure.Figure at 0x108666d30>"
      ]
     },
     "metadata": {},
     "output_type": "display_data"
    }
   ],
   "source": [
    "plt.plot(train_x, train_y)"
   ]
  },
  {
   "cell_type": "markdown",
   "metadata": {},
   "source": [
    "#### MNIST data"
   ]
  },
  {
   "cell_type": "code",
   "execution_count": 25,
   "metadata": {
    "collapsed": true
   },
   "outputs": [],
   "source": [
    "with np.load(\"TINY_MNIST.npz\") as data:\n",
    "    x, t = data[\"x\"], data[\"t\"]\n",
    "    x_eval, t_eval = data[\"x_eval\"], data[\"t_eval\"]"
   ]
  },
  {
   "cell_type": "code",
   "execution_count": 30,
   "metadata": {
    "collapsed": false
   },
   "outputs": [
    {
     "data": {
      "text/plain": [
       "(800, 64)"
      ]
     },
     "execution_count": 30,
     "metadata": {},
     "output_type": "execute_result"
    }
   ],
   "source": [
    "x.shape"
   ]
  },
  {
   "cell_type": "code",
   "execution_count": 31,
   "metadata": {
    "collapsed": true
   },
   "outputs": [],
   "source": [
    "new_x = x.reshape((800, 8, 8))"
   ]
  },
  {
   "cell_type": "code",
   "execution_count": 32,
   "metadata": {
    "collapsed": false
   },
   "outputs": [
    {
     "data": {
      "text/plain": [
       "(800, 8, 8)"
      ]
     },
     "execution_count": 32,
     "metadata": {},
     "output_type": "execute_result"
    }
   ],
   "source": [
    "new_x.shape"
   ]
  },
  {
   "cell_type": "code",
   "execution_count": 77,
   "metadata": {
    "collapsed": false,
    "scrolled": true
   },
   "outputs": [
    {
     "name": "stdout",
     "output_type": "stream",
     "text": [
      "[ 0.]\n"
     ]
    },
    {
     "data": {
      "text/plain": [
       "<matplotlib.image.AxesImage at 0x10917b860>"
      ]
     },
     "execution_count": 77,
     "metadata": {},
     "output_type": "execute_result"
    },
    {
     "data": {
      "image/png": "[encoded data removed]",
      "text/plain": [
       "<matplotlib.figure.Figure at 0x108eb0d30>"
      ]
     },
     "metadata": {},
     "output_type": "display_data"
    }
   ],
   "source": [
    "print(t[0])\n",
    "plt.imshow(new_x[0])"
   ]
  },
  {
   "cell_type": "code",
   "execution_count": 72,
   "metadata": {
    "collapsed": false
   },
   "outputs": [
    {
     "data": {
      "text/plain": [
       "array([ 0.])"
      ]
     },
     "execution_count": 72,
     "metadata": {},
     "output_type": "execute_result"
    }
   ],
   "source": [
    "t[0]"
   ]
  },
  {
   "cell_type": "code",
   "execution_count": 74,
   "metadata": {
    "collapsed": false
   },
   "outputs": [
    {
     "name": "stdout",
     "output_type": "stream",
     "text": [
      "[ 1.]\n"
     ]
    },
    {
     "data": {
      "text/plain": [
       "<matplotlib.image.AxesImage at 0x1094fe6d8>"
      ]
     },
     "execution_count": 74,
     "metadata": {},
     "output_type": "execute_result"
    },
    {
     "data": {
      "image/png": "[encoded data removed]",
      "text/plain": [
       "<matplotlib.figure.Figure at 0x1098bfef0>"
      ]
     },
     "metadata": {},
     "output_type": "display_data"
    }
   ],
   "source": [
    "print(t[1])\n",
    "plt.imshow(new_x[1])"
   ]
  },
  {
   "cell_type": "markdown",
   "metadata": {},
   "source": [
    "### kNN"
   ]
  },
  {
   "cell_type": "code",
   "execution_count": 229,
   "metadata": {
    "collapsed": false
   },
   "outputs": [],
   "source": [
    "def distance_knn(a, b):\n",
    "    '''\n",
    "    Inputs:\n",
    "        A: M x D array \n",
    "        B: N x D array\n",
    "    '''\n",
    "    \n",
    "    a_squared = np.sum(a**2, axis=1) # M x 1\n",
    "    b_squared = np.sum(b**2, axis=1) # N x 1\n",
    "    a_times_b = np.dot(a, b.T)       # M x N\n",
    "\n",
    "    return np.sqrt(a_squared[:, np.newaxis] + b_squared[np.newaxis, :] - 2*a_times_b)"
   ]
  },
  {
   "cell_type": "code",
   "execution_count": 230,
   "metadata": {
    "collapsed": true
   },
   "outputs": [],
   "source": [
    "def predict_knn(x_train, y_train, x_test, k):\n",
    "    dist = distance(x_train, x_test)\n",
    "    \n",
    "    nearest = np.argsort(dist, axis=0)[:k,:]\n",
    "\n",
    "    y_train = y_train.ravel()\n",
    "    valid_labels = y_train[nearest]\n",
    "\n",
    "    valid_labels = (np.mean(valid_labels, axis=0) >= 0.5).astype(np.int)\n",
    "\n",
    "    return valid_labels"
   ]
  },
  {
   "cell_type": "code",
   "execution_count": 231,
   "metadata": {
    "collapsed": true
   },
   "outputs": [],
   "source": [
    "def score_knn(x_train, y_train, x_test, y_test, k):\n",
    "    prediction = predict_knn(x_train, y_train, x_test, k)\n",
    "    return np.sum(prediction == y_test.ravel())"
   ]
  },
  {
   "cell_type": "markdown",
   "metadata": {},
   "source": [
    "### Task 1"
   ]
  },
  {
   "cell_type": "code",
   "execution_count": 226,
   "metadata": {
    "collapsed": true
   },
   "outputs": [],
   "source": [
    "num_neighbors = 1"
   ]
  },
  {
   "cell_type": "code",
   "execution_count": 227,
   "metadata": {
    "collapsed": true
   },
   "outputs": [],
   "source": [
    "training_size = [5, 50, 100, 200, 400, 800]\n",
    "validation_score = []"
   ]
  },
  {
   "cell_type": "code",
   "execution_count": 126,
   "metadata": {
    "collapsed": true
   },
   "outputs": [],
   "source": [
    "for size in training_size:\n",
    "    knn = neighbors.KNeighborsClassifier(num_neighbors, weights='uniform')\n",
    "    knn.fit(x[:size], t.ravel()[:size])\n",
    "    score = knn.score(x_eval, t_eval.ravel())\n",
    "    \n",
    "    validation_score.append(score)"
   ]
  },
  {
   "cell_type": "code",
   "execution_count": 127,
   "metadata": {
    "collapsed": false
   },
   "outputs": [],
   "source": [
    "num_errors = 400 - np.dot(validation_score, 400)"
   ]
  },
  {
   "cell_type": "code",
   "execution_count": 128,
   "metadata": {
    "collapsed": false
   },
   "outputs": [
    {
     "data": {
      "text/plain": [
       "[0.73250000000000004,\n",
       " 0.90000000000000002,\n",
       " 0.9325,\n",
       " 0.95750000000000002,\n",
       " 0.97750000000000004,\n",
       " 0.96999999999999997]"
      ]
     },
     "execution_count": 128,
     "metadata": {},
     "output_type": "execute_result"
    }
   ],
   "source": [
    "validation_score"
   ]
  },
  {
   "cell_type": "code",
   "execution_count": 129,
   "metadata": {
    "collapsed": false
   },
   "outputs": [
    {
     "data": {
      "text/plain": [
       "array([ 107.,   40.,   27.,   17.,    9.,   12.])"
      ]
     },
     "execution_count": 129,
     "metadata": {},
     "output_type": "execute_result"
    }
   ],
   "source": [
    "num_errors"
   ]
  },
  {
   "cell_type": "code",
   "execution_count": 141,
   "metadata": {
    "collapsed": false
   },
   "outputs": [
    {
     "data": {
      "text/plain": [
       "[<matplotlib.lines.Line2D at 0x10d1b1860>]"
      ]
     },
     "execution_count": 141,
     "metadata": {},
     "output_type": "execute_result"
    },
    {
     "data": {
      "image/png": "[encoded data removed]",
      "text/plain": [
       "<matplotlib.figure.Figure at 0x10c2417f0>"
      ]
     },
     "metadata": {},
     "output_type": "display_data"
    },
    {
     "data": {
      "image/png": "[encoded data removed]",
      "text/plain": [
       "<matplotlib.figure.Figure at 0x1092354a8>"
      ]
     },
     "metadata": {},
     "output_type": "display_data"
    }
   ],
   "source": [
    "plt.figure()\n",
    "plt.title('Validation Classification Rate')\n",
    "plt.plot(training_size, validation_score)\n",
    "plt.figure()\n",
    "plt.title('Number of errors')\n",
    "plt.plot(training_size, num_errors)"
   ]
  },
  {
   "cell_type": "markdown",
   "metadata": {},
   "source": [
    "### Task 1 - no sklearn"
   ]
  },
  {
   "cell_type": "code",
   "execution_count": 245,
   "metadata": {
    "collapsed": true
   },
   "outputs": [],
   "source": [
    "validation_score = []"
   ]
  },
  {
   "cell_type": "code",
   "execution_count": 246,
   "metadata": {
    "collapsed": false
   },
   "outputs": [],
   "source": [
    "for size in training_size:\n",
    "    score = score_knn(x[:size], t.ravel()[:size], x_eval, t_eval.ravel(), num_neighbors)\n",
    "    validation_score.append(score)"
   ]
  },
  {
   "cell_type": "code",
   "execution_count": 247,
   "metadata": {
    "collapsed": false
   },
   "outputs": [
    {
     "data": {
      "text/plain": [
       "array([107,  40,  27,  17,   9,  12])"
      ]
     },
     "execution_count": 247,
     "metadata": {},
     "output_type": "execute_result"
    }
   ],
   "source": [
    "num_errors = 400 - np.array(validation_score)\n",
    "num_errors"
   ]
  },
  {
   "cell_type": "code",
   "execution_count": 248,
   "metadata": {
    "collapsed": false
   },
   "outputs": [
    {
     "data": {
      "text/plain": [
       "array([ 0.2675,  0.1   ,  0.0675,  0.0425,  0.0225,  0.03  ])"
      ]
     },
     "execution_count": 248,
     "metadata": {},
     "output_type": "execute_result"
    }
   ],
   "source": [
    "scores = num_errors / 400.0\n",
    "scores"
   ]
  },
  {
   "cell_type": "code",
   "execution_count": 249,
   "metadata": {
    "collapsed": false
   },
   "outputs": [
    {
     "data": {
      "text/plain": [
       "[<matplotlib.lines.Line2D at 0x10d9b5c50>]"
      ]
     },
     "execution_count": 249,
     "metadata": {},
     "output_type": "execute_result"
    },
    {
     "data": {
      "image/png": "[encoded data removed]",
      "text/plain": [
       "<matplotlib.figure.Figure at 0x10f03ccc0>"
      ]
     },
     "metadata": {},
     "output_type": "display_data"
    },
    {
     "data": {
      "image/png": "[encoded data removed]",
      "text/plain": [
       "<matplotlib.figure.Figure at 0x10efb4898>"
      ]
     },
     "metadata": {},
     "output_type": "display_data"
    }
   ],
   "source": [
    "plt.figure()\n",
    "plt.title('Validation Mis-Classification Rate')\n",
    "plt.plot(training_size, scores)\n",
    "plt.figure()\n",
    "plt.title('Number of errors')\n",
    "plt.plot(training_size, num_errors)"
   ]
  },
  {
   "cell_type": "markdown",
   "metadata": {},
   "source": [
    "### Task 2"
   ]
  },
  {
   "cell_type": "code",
   "execution_count": 131,
   "metadata": {
    "collapsed": true
   },
   "outputs": [],
   "source": [
    "num_neighbors_array = [1, 3, 5, 7, 21, 101, 401]\n",
    "scores = []"
   ]
  },
  {
   "cell_type": "code",
   "execution_count": 132,
   "metadata": {
    "collapsed": true
   },
   "outputs": [],
   "source": [
    "for num in num_neighbors_array:\n",
    "    knn = neighbors.KNeighborsClassifier(num, weights='uniform')\n",
    "    knn.fit(x, t.ravel())\n",
    "    score = knn.score(x_eval, t_eval.ravel())\n",
    "    \n",
    "    scores.append(score)"
   ]
  },
  {
   "cell_type": "code",
   "execution_count": 133,
   "metadata": {
    "collapsed": true
   },
   "outputs": [],
   "source": [
    "errors = 400 - np.dot(scores, 400)"
   ]
  },
  {
   "cell_type": "code",
   "execution_count": 134,
   "metadata": {
    "collapsed": false
   },
   "outputs": [
    {
     "data": {
      "text/plain": [
       "[0.96999999999999997,\n",
       " 0.97999999999999998,\n",
       " 0.97499999999999998,\n",
       " 0.97750000000000004,\n",
       " 0.97250000000000003,\n",
       " 0.93999999999999995,\n",
       " 0.87250000000000005]"
      ]
     },
     "execution_count": 134,
     "metadata": {},
     "output_type": "execute_result"
    }
   ],
   "source": [
    "scores"
   ]
  },
  {
   "cell_type": "code",
   "execution_count": 135,
   "metadata": {
    "collapsed": false
   },
   "outputs": [
    {
     "data": {
      "text/plain": [
       "array([ 12.,   8.,  10.,   9.,  11.,  24.,  51.])"
      ]
     },
     "execution_count": 135,
     "metadata": {},
     "output_type": "execute_result"
    }
   ],
   "source": [
    "errors"
   ]
  },
  {
   "cell_type": "code",
   "execution_count": 142,
   "metadata": {
    "collapsed": false
   },
   "outputs": [
    {
     "data": {
      "text/plain": [
       "[<matplotlib.lines.Line2D at 0x10d492860>]"
      ]
     },
     "execution_count": 142,
     "metadata": {},
     "output_type": "execute_result"
    },
    {
     "data": {
      "image/png": "[encoded data removed]",
      "text/plain": [
       "<matplotlib.figure.Figure at 0x10d108eb8>"
      ]
     },
     "metadata": {},
     "output_type": "display_data"
    },
    {
     "data": {
      "image/png": "[encoded data removed]",
      "text/plain": [
       "<matplotlib.figure.Figure at 0x10df73ac8>"
      ]
     },
     "metadata": {},
     "output_type": "display_data"
    }
   ],
   "source": [
    "plt.figure()\n",
    "plt.xscale('log')\n",
    "plt.title('Validation Classification Rate')\n",
    "plt.plot(num_neighbors_array, scores)\n",
    "plt.figure()\n",
    "plt.xscale('log')\n",
    "plt.title('Number of Errors')\n",
    "plt.plot(num_neighbors_array, errors)"
   ]
  },
  {
   "cell_type": "markdown",
   "metadata": {},
   "source": [
    "### Task 2 - No sklearn"
   ]
  },
  {
   "cell_type": "code",
   "execution_count": 250,
   "metadata": {
    "collapsed": true
   },
   "outputs": [],
   "source": [
    "scores = []"
   ]
  },
  {
   "cell_type": "code",
   "execution_count": 251,
   "metadata": {
    "collapsed": true
   },
   "outputs": [],
   "source": [
    "for num in num_neighbors_array:\n",
    "    score = score_knn(x, t.ravel(), x_eval, t_eval.ravel(), num)\n",
    "\n",
    "    scores.append(score)"
   ]
  },
  {
   "cell_type": "code",
   "execution_count": 252,
   "metadata": {
    "collapsed": false
   },
   "outputs": [
    {
     "data": {
      "text/plain": [
       "[388, 392, 390, 391, 389, 376, 349]"
      ]
     },
     "execution_count": 252,
     "metadata": {},
     "output_type": "execute_result"
    }
   ],
   "source": [
    "scores"
   ]
  },
  {
   "cell_type": "code",
   "execution_count": 254,
   "metadata": {
    "collapsed": false
   },
   "outputs": [
    {
     "data": {
      "text/plain": [
       "array([12,  8, 10,  9, 11, 24, 51])"
      ]
     },
     "execution_count": 254,
     "metadata": {},
     "output_type": "execute_result"
    }
   ],
   "source": [
    "errors = 400 - np.array(scores)\n",
    "errors"
   ]
  },
  {
   "cell_type": "code",
   "execution_count": 256,
   "metadata": {
    "collapsed": false
   },
   "outputs": [
    {
     "data": {
      "text/plain": [
       "array([ 0.97  ,  0.98  ,  0.975 ,  0.9775,  0.9725,  0.94  ,  0.8725])"
      ]
     },
     "execution_count": 256,
     "metadata": {},
     "output_type": "execute_result"
    }
   ],
   "source": [
    "scores = np.array(scores) / 400.0\n",
    "scores"
   ]
  },
  {
   "cell_type": "code",
   "execution_count": 257,
   "metadata": {
    "collapsed": false
   },
   "outputs": [
    {
     "data": {
      "text/plain": [
       "[<matplotlib.lines.Line2D at 0x10efd4550>]"
      ]
     },
     "execution_count": 257,
     "metadata": {},
     "output_type": "execute_result"
    },
    {
     "data": {
      "image/png": "[encoded data removed]",
      "text/plain": [
       "<matplotlib.figure.Figure at 0x10d9ce780>"
      ]
     },
     "metadata": {},
     "output_type": "display_data"
    },
    {
     "data": {
      "image/png": "[encoded data removed]",
      "text/plain": [
       "<matplotlib.figure.Figure at 0x10ef8cf28>"
      ]
     },
     "metadata": {},
     "output_type": "display_data"
    }
   ],
   "source": [
    "plt.figure()\n",
    "plt.xscale('log')\n",
    "plt.title('Validation Classification Rate')\n",
    "plt.plot(num_neighbors_array, scores)\n",
    "plt.figure()\n",
    "plt.xscale('log')\n",
    "plt.title('Number of Errors')\n",
    "plt.plot(num_neighbors_array, errors)"
   ]
  },
  {
   "cell_type": "markdown",
   "metadata": {},
   "source": [
    "### Task 3"
   ]
  },
  {
   "cell_type": "code",
   "execution_count": 146,
   "metadata": {
    "collapsed": true
   },
   "outputs": [],
   "source": [
    "lr = linear_model.LinearRegression()"
   ]
  },
  {
   "cell_type": "code",
   "execution_count": 147,
   "metadata": {
    "collapsed": false
   },
   "outputs": [
    {
     "data": {
      "text/plain": [
       "LinearRegression(copy_X=True, fit_intercept=True, n_jobs=1, normalize=False)"
      ]
     },
     "execution_count": 147,
     "metadata": {},
     "output_type": "execute_result"
    }
   ],
   "source": [
    "lr.fit(train_x, train_y)"
   ]
  },
  {
   "cell_type": "code",
   "execution_count": 152,
   "metadata": {
    "collapsed": false
   },
   "outputs": [
    {
     "data": {
      "text/plain": [
       "[<matplotlib.lines.Line2D at 0x10c128668>]"
      ]
     },
     "execution_count": 152,
     "metadata": {},
     "output_type": "execute_result"
    },
    {
     "data": {
      "image/png": "[encoded data removed]",
      "text/plain": [
       "<matplotlib.figure.Figure at 0x10c128fd0>"
      ]
     },
     "metadata": {},
     "output_type": "display_data"
    }
   ],
   "source": [
    "plt.scatter(train_x, train_y)\n",
    "plt.plot(train_x, lr.predict(train_x))"
   ]
  },
  {
   "cell_type": "markdown",
   "metadata": {},
   "source": [
    "### Task 3 - no sklearn"
   ]
  },
  {
   "cell_type": "code",
   "execution_count": 319,
   "metadata": {
    "collapsed": true
   },
   "outputs": [],
   "source": [
    "def lr_predict(x_train, y_train):\n",
    "    '''\n",
    "    Inputs: \n",
    "        X: N x D\n",
    "        Y: N x 1\n",
    "    '''\n",
    "    # 1: Train model by solving system of linear equations\n",
    "    inputs = np.hstack((x_train, np.ones(y_train.shape))).T # D + 1 x N\n",
    "\n",
    "    xxT = np.dot(inputs, inputs.T) # D + 1 x D + 1\n",
    "    xxT_inv = np.linalg.inv(xxT)\n",
    "    \n",
    "    xy = np.dot(inputs, y_train) # D + 1 x 1\n",
    "    w = np.dot(xxT_inv, xy) # D + 1 x 1\n",
    "    \n",
    "    # 2: Predict on training set\n",
    "    return w, np.dot(w.T, inputs).T # N x 1"
   ]
  },
  {
   "cell_type": "code",
   "execution_count": 320,
   "metadata": {
    "collapsed": false
   },
   "outputs": [
    {
     "data": {
      "text/plain": [
       "(100, 1)"
      ]
     },
     "execution_count": 320,
     "metadata": {},
     "output_type": "execute_result"
    }
   ],
   "source": [
    "w, pred = lr_predict(train_x, train_y)\n",
    "pred.shape"
   ]
  },
  {
   "cell_type": "code",
   "execution_count": 322,
   "metadata": {
    "collapsed": false
   },
   "outputs": [
    {
     "data": {
      "text/plain": [
       "<matplotlib.collections.PathCollection at 0x10fa98208>"
      ]
     },
     "execution_count": 322,
     "metadata": {},
     "output_type": "execute_result"
    },
    {
     "data": {
      "image/png": "[encoded data removed]",
      "text/plain": [
       "<matplotlib.figure.Figure at 0x10fa984e0>"
      ]
     },
     "metadata": {},
     "output_type": "display_data"
    }
   ],
   "source": [
    "plt.plot(train_x, pred)\n",
    "plt.scatter(train_x, train_y)"
   ]
  },
  {
   "cell_type": "markdown",
   "metadata": {},
   "source": [
    "### Task 4"
   ]
  },
  {
   "cell_type": "code",
   "execution_count": 153,
   "metadata": {
    "collapsed": false
   },
   "outputs": [
    {
     "data": {
      "text/plain": [
       "(100, 1)"
      ]
     },
     "execution_count": 153,
     "metadata": {},
     "output_type": "execute_result"
    }
   ],
   "source": [
    "train_x.shape"
   ]
  },
  {
   "cell_type": "code",
   "execution_count": 163,
   "metadata": {
    "collapsed": true
   },
   "outputs": [],
   "source": [
    "projected_x = np.hstack((train_x, train_x**2, train_x**3, train_x**4, train_x**5))"
   ]
  },
  {
   "cell_type": "code",
   "execution_count": 164,
   "metadata": {
    "collapsed": false
   },
   "outputs": [
    {
     "data": {
      "text/plain": [
       "(100, 5)"
      ]
     },
     "execution_count": 164,
     "metadata": {},
     "output_type": "execute_result"
    }
   ],
   "source": [
    "projected_x.shape"
   ]
  },
  {
   "cell_type": "code",
   "execution_count": 165,
   "metadata": {
    "collapsed": false
   },
   "outputs": [
    {
     "data": {
      "text/plain": [
       "array([[ 1.        ],\n",
       "       [ 1.09090909],\n",
       "       [ 1.18181818],\n",
       "       [ 1.27272727],\n",
       "       [ 1.36363636]])"
      ]
     },
     "execution_count": 165,
     "metadata": {},
     "output_type": "execute_result"
    }
   ],
   "source": [
    "train_x[0:5]"
   ]
  },
  {
   "cell_type": "code",
   "execution_count": 166,
   "metadata": {
    "collapsed": false
   },
   "outputs": [
    {
     "data": {
      "text/plain": [
       "array([[ 1.        ,  1.        ,  1.        ,  1.        ,  1.        ],\n",
       "       [ 1.09090909,  1.19008264,  1.29827198,  1.4162967 ,  1.54505095],\n",
       "       [ 1.18181818,  1.39669421,  1.65063862,  1.95075473,  2.30543741],\n",
       "       [ 1.27272727,  1.61983471,  2.06160781,  2.62386449,  3.3394639 ],\n",
       "       [ 1.36363636,  1.85950413,  2.53568745,  3.45775562,  4.7151213 ]])"
      ]
     },
     "execution_count": 166,
     "metadata": {},
     "output_type": "execute_result"
    }
   ],
   "source": [
    "projected_x[0:5][:]"
   ]
  },
  {
   "cell_type": "code",
   "execution_count": 167,
   "metadata": {
    "collapsed": true
   },
   "outputs": [],
   "source": [
    "lr_feature = linear_model.LinearRegression()"
   ]
  },
  {
   "cell_type": "code",
   "execution_count": 169,
   "metadata": {
    "collapsed": false
   },
   "outputs": [
    {
     "data": {
      "text/plain": [
       "LinearRegression(copy_X=True, fit_intercept=True, n_jobs=1, normalize=False)"
      ]
     },
     "execution_count": 169,
     "metadata": {},
     "output_type": "execute_result"
    }
   ],
   "source": [
    "lr_feature.fit(projected_x, train_y)"
   ]
  },
  {
   "cell_type": "code",
   "execution_count": 171,
   "metadata": {
    "collapsed": false
   },
   "outputs": [
    {
     "data": {
      "text/plain": [
       "[<matplotlib.lines.Line2D at 0x10cb0c668>]"
      ]
     },
     "execution_count": 171,
     "metadata": {},
     "output_type": "execute_result"
    },
    {
     "data": {
      "image/png": "[encoded data removed]",
      "text/plain": [
       "<matplotlib.figure.Figure at 0x10cb0c860>"
      ]
     },
     "metadata": {},
     "output_type": "display_data"
    }
   ],
   "source": [
    "plt.scatter(train_x, train_y)\n",
    "plt.plot(train_x, lr_feature.predict(projected_x))"
   ]
  },
  {
   "cell_type": "markdown",
   "metadata": {},
   "source": [
    "### Task 4 - no sklearn"
   ]
  },
  {
   "cell_type": "code",
   "execution_count": 323,
   "metadata": {
    "collapsed": true
   },
   "outputs": [],
   "source": [
    "projected_x = np.hstack((train_x**5, train_x**4, train_x**3, train_x**2, train_x))"
   ]
  },
  {
   "cell_type": "code",
   "execution_count": 326,
   "metadata": {
    "collapsed": false
   },
   "outputs": [
    {
     "data": {
      "text/plain": [
       "array([[ 1.        ,  1.        ,  1.        ,  1.        ,  1.        ],\n",
       "       [ 1.54505095,  1.4162967 ,  1.29827198,  1.19008264,  1.09090909],\n",
       "       [ 2.30543741,  1.95075473,  1.65063862,  1.39669421,  1.18181818],\n",
       "       [ 3.3394639 ,  2.62386449,  2.06160781,  1.61983471,  1.27272727],\n",
       "       [ 4.7151213 ,  3.45775562,  2.53568745,  1.85950413,  1.36363636]])"
      ]
     },
     "execution_count": 326,
     "metadata": {},
     "output_type": "execute_result"
    }
   ],
   "source": [
    "projected_x[:5][:]"
   ]
  },
  {
   "cell_type": "code",
   "execution_count": 327,
   "metadata": {
    "collapsed": false
   },
   "outputs": [
    {
     "data": {
      "text/plain": [
       "(100, 1)"
      ]
     },
     "execution_count": 327,
     "metadata": {},
     "output_type": "execute_result"
    }
   ],
   "source": [
    "w, pred = lr_predict(projected_x, train_y)\n",
    "pred.shape"
   ]
  },
  {
   "cell_type": "code",
   "execution_count": 330,
   "metadata": {
    "collapsed": false
   },
   "outputs": [
    {
     "data": {
      "text/plain": [
       "[<matplotlib.lines.Line2D at 0x10efa50b8>]"
      ]
     },
     "execution_count": 330,
     "metadata": {},
     "output_type": "execute_result"
    },
    {
     "data": {
      "image/png": "[encoded data removed]",
      "text/plain": [
       "<matplotlib.figure.Figure at 0x10efa5940>"
      ]
     },
     "metadata": {},
     "output_type": "display_data"
    }
   ],
   "source": [
    "plt.scatter(train_x, train_y)\n",
    "plt.plot(train_x, pred)"
   ]
  },
  {
   "cell_type": "markdown",
   "metadata": {},
   "source": [
    "### Task 5"
   ]
  },
  {
   "cell_type": "code",
   "execution_count": 494,
   "metadata": {
    "collapsed": true
   },
   "outputs": [],
   "source": [
    "def sigmoid(x):\n",
    "    return 1.0 / (1.0 + np.exp(-x))"
   ]
  },
  {
   "cell_type": "code",
   "execution_count": 566,
   "metadata": {
    "collapsed": true
   },
   "outputs": [],
   "source": [
    "def lr_predict_sgd(x_train, y_train, x_test):\n",
    "    '''\n",
    "    Inputs: \n",
    "        X: N x D\n",
    "        Y: N x 1\n",
    "    '''\n",
    "    # 1: Train model by solving system of linear equations\n",
    "    inputs = np.hstack((x_train, np.ones(y_train.shape))).T # D + 1 x N\n",
    "    test = np.hstack((x_test, np.ones((x_test.shape[0], 1)))).T # D + 1 x N\n",
    "    weights = np.zeros(inputs.shape[0]) # 1 x D + 1\n",
    "    \n",
    "    num_iter = 100\n",
    "    learning_rate = 0.001\n",
    "    for i in range(num_iter):\n",
    "        \n",
    "        # find mini batch\n",
    "        # -- shuffle inputs and y_train\n",
    "        examples = np.arange(inputs.shape[1])\n",
    "        np.random.shuffle(examples)\n",
    "        \n",
    "        for example in examples:\n",
    "            # compute pred\n",
    "            curr_pred = np.dot(weights, inputs)\n",
    "\n",
    "            # compute derivative on mini batch of size one\n",
    "            de_dw = (curr_pred[example] - y_train[example]) * inputs.T[example]\n",
    "            \n",
    "            # update weights\n",
    "            weights = weights - learning_rate * de_dw.T\n",
    "    \n",
    "    # 2: Predict on test set\n",
    "    return np.dot(weights, test).T # N x 1"
   ]
  },
  {
   "cell_type": "code",
   "execution_count": 567,
   "metadata": {
    "collapsed": true
   },
   "outputs": [],
   "source": [
    "num_valid_errors = []\n",
    "training_set_size = [100, 200, 400, 800]"
   ]
  },
  {
   "cell_type": "code",
   "execution_count": 568,
   "metadata": {
    "collapsed": true
   },
   "outputs": [],
   "source": [
    "for size in training_set_size:\n",
    "    pred = lr_predict_sgd(x[:size], t[:size], x_eval)\n",
    "    num_valid_errors.append(t_eval.shape[0] - ((pred >= 0.5).astype(int) == t_eval.ravel()).sum())"
   ]
  },
  {
   "cell_type": "code",
   "execution_count": 569,
   "metadata": {
    "collapsed": false
   },
   "outputs": [
    {
     "data": {
      "text/plain": [
       "[35, 24, 24, 23]"
      ]
     },
     "execution_count": 569,
     "metadata": {},
     "output_type": "execute_result"
    }
   ],
   "source": [
    "num_valid_errors"
   ]
  },
  {
   "cell_type": "markdown",
   "metadata": {},
   "source": [
    "### Task 5 with sklearn"
   ]
  },
  {
   "cell_type": "code",
   "execution_count": 386,
   "metadata": {
    "collapsed": true
   },
   "outputs": [],
   "source": [
    "from sklearn.linear_model.stochastic_gradient import SGDClassifier\n",
    "from sklearn.linear_model.stochastic_gradient import SGDRegressor"
   ]
  },
  {
   "cell_type": "code",
   "execution_count": 340,
   "metadata": {
    "collapsed": false
   },
   "outputs": [
    {
     "data": {
      "text/plain": [
       "(5, 64)"
      ]
     },
     "execution_count": 340,
     "metadata": {},
     "output_type": "execute_result"
    }
   ],
   "source": [
    "x[:5].shape"
   ]
  },
  {
   "cell_type": "code",
   "execution_count": 379,
   "metadata": {
    "collapsed": true
   },
   "outputs": [],
   "source": [
    "training_set_size = [100, 200, 400, 800]\n",
    "scores = []"
   ]
  },
  {
   "cell_type": "code",
   "execution_count": 380,
   "metadata": {
    "collapsed": false
   },
   "outputs": [],
   "source": [
    "for size in training_set_size:\n",
    "    lr_sgd = linear_model.SGDClassifier(penalty='none', loss='log')\n",
    "    lr_sgd.fit(x[:size], t.ravel()[:size])\n",
    "    \n",
    "    scores.append(lr_sgd.score(x_eval, t_eval))"
   ]
  },
  {
   "cell_type": "code",
   "execution_count": 381,
   "metadata": {
    "collapsed": false
   },
   "outputs": [
    {
     "data": {
      "text/plain": [
       "[0.85750000000000004,\n",
       " 0.93999999999999995,\n",
       " 0.93999999999999995,\n",
       " 0.95499999999999996]"
      ]
     },
     "execution_count": 381,
     "metadata": {},
     "output_type": "execute_result"
    }
   ],
   "source": [
    "scores"
   ]
  },
  {
   "cell_type": "code",
   "execution_count": 382,
   "metadata": {
    "collapsed": false
   },
   "outputs": [
    {
     "data": {
      "text/plain": [
       "array([ 57.,  24.,  24.,  18.])"
      ]
     },
     "execution_count": 382,
     "metadata": {},
     "output_type": "execute_result"
    }
   ],
   "source": [
    "400 - (np.array(scores) * 400)"
   ]
  },
  {
   "cell_type": "code",
   "execution_count": 387,
   "metadata": {
    "collapsed": true
   },
   "outputs": [],
   "source": [
    "preds = []"
   ]
  },
  {
   "cell_type": "code",
   "execution_count": 388,
   "metadata": {
    "collapsed": true
   },
   "outputs": [],
   "source": [
    "for size in training_set_size:\n",
    "    lr_sgd = linear_model.SGDRegressor(penalty='none')\n",
    "    lr_sgd.fit(x[:size], t.ravel()[:size])\n",
    "    \n",
    "    preds.append(lr_sgd.predict(x_eval))"
   ]
  },
  {
   "cell_type": "code",
   "execution_count": 389,
   "metadata": {
    "collapsed": true
   },
   "outputs": [],
   "source": [
    "preds = np.array(preds)"
   ]
  },
  {
   "cell_type": "code",
   "execution_count": 390,
   "metadata": {
    "collapsed": false
   },
   "outputs": [
    {
     "data": {
      "text/plain": [
       "(4, 400)"
      ]
     },
     "execution_count": 390,
     "metadata": {},
     "output_type": "execute_result"
    }
   ],
   "source": [
    "preds.shape"
   ]
  },
  {
   "cell_type": "code",
   "execution_count": 392,
   "metadata": {
    "collapsed": false
   },
   "outputs": [
    {
     "data": {
      "text/plain": [
       "(400, 1)"
      ]
     },
     "execution_count": 392,
     "metadata": {},
     "output_type": "execute_result"
    }
   ],
   "source": [
    "t_eval.shape"
   ]
  },
  {
   "cell_type": "code",
   "execution_count": 393,
   "metadata": {
    "collapsed": true
   },
   "outputs": [],
   "source": [
    "diff = t_eval.T - preds"
   ]
  },
  {
   "cell_type": "code",
   "execution_count": 394,
   "metadata": {
    "collapsed": false
   },
   "outputs": [
    {
     "data": {
      "text/plain": [
       "(4, 400)"
      ]
     },
     "execution_count": 394,
     "metadata": {},
     "output_type": "execute_result"
    }
   ],
   "source": [
    "diff.shape"
   ]
  },
  {
   "cell_type": "code",
   "execution_count": 408,
   "metadata": {
    "collapsed": false
   },
   "outputs": [],
   "source": [
    "actual_preds = np.sum((preds > 0.5).astype(int) == t_eval.T, axis=1)"
   ]
  },
  {
   "cell_type": "code",
   "execution_count": 409,
   "metadata": {
    "collapsed": false
   },
   "outputs": [
    {
     "data": {
      "text/plain": [
       "array([70, 48, 36, 33])"
      ]
     },
     "execution_count": 409,
     "metadata": {},
     "output_type": "execute_result"
    }
   ],
   "source": [
    "400 - actual_preds"
   ]
  },
  {
   "cell_type": "markdown",
   "metadata": {},
   "source": [
    "### Task 6"
   ]
  },
  {
   "cell_type": "code",
   "execution_count": 619,
   "metadata": {
    "collapsed": true
   },
   "outputs": [],
   "source": [
    "def lr_predict_sgd_per_epoch(x_train, y_train, x_test, y_test):\n",
    "    '''\n",
    "    Inputs: \n",
    "        X: N x D\n",
    "        Y: N x 1\n",
    "    '''\n",
    "    # 1: Train model by solving system of linear equations\n",
    "    inputs = np.hstack((x_train, np.ones(y_train.shape))).T # D + 1 x N\n",
    "    test = np.hstack((x_test, np.ones((x_test.shape[0], 1)))).T # D + 1 x N\n",
    "    weights = np.zeros(inputs.shape[0]) # 1 x D + 1\n",
    "    \n",
    "    num_iter = 100\n",
    "    learning_rate = 0.002\n",
    "    \n",
    "    training_errors = []\n",
    "    validation_errors = []\n",
    "    \n",
    "    for i in range(num_iter):\n",
    "        \n",
    "        # find mini batch\n",
    "        # -- shuffle inputs and y_train\n",
    "        examples = np.arange(inputs.shape[1])\n",
    "        np.random.shuffle(examples)\n",
    "        \n",
    "        for example in examples:\n",
    "            # compute pred\n",
    "            curr_pred = np.dot(weights, inputs)\n",
    "\n",
    "            # compute derivative on mini batch of size one\n",
    "            de_dw = (curr_pred[example] - y_train[example]) * inputs.T[example]\n",
    "            \n",
    "            # update weights\n",
    "            weights = weights - learning_rate * de_dw.T\n",
    "    \n",
    "        # Store results per epoch\n",
    "        training_pred = np.dot(weights, inputs).T\n",
    "        validation_pred = np.dot(weights, test).T\n",
    "        \n",
    "        training_errors.append(y_train.shape[0] - ((training_pred >= 0.5).astype(int) == y_train.ravel()).sum())\n",
    "        validation_errors.append(y_test.shape[0] - ((validation_pred >= 0.5).astype(int) == y_test.ravel()).sum())\n",
    "        \n",
    "    return training_errors, validation_errors"
   ]
  },
  {
   "cell_type": "code",
   "execution_count": 620,
   "metadata": {
    "collapsed": false
   },
   "outputs": [],
   "source": [
    "t_error, v_error = lr_predict_sgd_per_epoch(x[:50], t[:50], x_eval, t_eval)"
   ]
  },
  {
   "cell_type": "code",
   "execution_count": 628,
   "metadata": {
    "collapsed": false
   },
   "outputs": [],
   "source": [
    "epochs = np.arange(100)\n"
   ]
  },
  {
   "cell_type": "code",
   "execution_count": 630,
   "metadata": {
    "collapsed": false
   },
   "outputs": [
    {
     "data": {
      "text/plain": [
       "44"
      ]
     },
     "execution_count": 630,
     "metadata": {},
     "output_type": "execute_result"
    }
   ],
   "source": [
    "v_error[-1]"
   ]
  },
  {
   "cell_type": "code",
   "execution_count": 622,
   "metadata": {
    "collapsed": false
   },
   "outputs": [
    {
     "data": {
      "text/plain": [
       "[<matplotlib.lines.Line2D at 0x10fcf5438>]"
      ]
     },
     "execution_count": 622,
     "metadata": {},
     "output_type": "execute_result"
    },
    {
     "data": {
      "image/png": "[encoded data removed]",
      "text/plain": [
       "<matplotlib.figure.Figure at 0x10fcf5048>"
      ]
     },
     "metadata": {},
     "output_type": "display_data"
    }
   ],
   "source": [
    "plt.plot(epochs, t_error)\n",
    "plt.plot(epochs, v_error)"
   ]
  },
  {
   "cell_type": "markdown",
   "metadata": {},
   "source": [
    "### Task 7"
   ]
  },
  {
   "cell_type": "code",
   "execution_count": 699,
   "metadata": {
    "collapsed": true
   },
   "outputs": [],
   "source": [
    "def lr_predict_sgd_reg(x_train, y_train, x_test, regularization):\n",
    "    '''\n",
    "    Inputs: \n",
    "        X: N x D\n",
    "        Y: N x 1\n",
    "    '''\n",
    "    # 1: Train model by solving system of linear equations\n",
    "    inputs = np.hstack((x_train, np.ones(y_train.shape))).T # D + 1 x N\n",
    "    test = np.hstack((x_test, np.ones((x_test.shape[0], 1)))).T # D + 1 x N\n",
    "    weights = np.zeros(inputs.shape[0]) # 1 x D + 1\n",
    "    \n",
    "    num_iter = 100\n",
    "    learning_rate = 0.002\n",
    "    for i in range(num_iter):\n",
    "        \n",
    "        # find mini batch\n",
    "        # -- shuffle inputs and y_train\n",
    "        examples = np.arange(inputs.shape[1])\n",
    "        np.random.shuffle(examples)\n",
    "        \n",
    "        for example in examples:\n",
    "            # compute pred\n",
    "            curr_pred = np.dot(weights, inputs)\n",
    "\n",
    "            # compute derivative on mini batch of size one\n",
    "            de_dw = (curr_pred[example] - y_train[example]) * inputs.T[example] + regularization * weights\n",
    "            \n",
    "            # update weights\n",
    "            weights = weights - learning_rate * de_dw.T\n",
    "    \n",
    "    # 2: Predict on test set\n",
    "    return np.dot(weights, test).T # N x 1"
   ]
  },
  {
   "cell_type": "code",
   "execution_count": 700,
   "metadata": {
    "collapsed": true
   },
   "outputs": [],
   "source": [
    "regularizations = [0, 0.0001, 0.001, 0.01, 0.1, 0.5]\n",
    "num_valid_errors = []"
   ]
  },
  {
   "cell_type": "code",
   "execution_count": 701,
   "metadata": {
    "collapsed": false
   },
   "outputs": [],
   "source": [
    "for reg in regularizations:\n",
    "    pred = lr_predict_sgd_reg(x[:50], t[:50], x_eval, reg)\n",
    "    num_valid_errors.append(t_eval.shape[0] - ((pred >= 0.5).astype(int) == t_eval.ravel()).sum())"
   ]
  },
  {
   "cell_type": "code",
   "execution_count": 702,
   "metadata": {
    "collapsed": false
   },
   "outputs": [
    {
     "data": {
      "text/plain": [
       "[44, 46, 45, 45, 52, 82]"
      ]
     },
     "execution_count": 702,
     "metadata": {},
     "output_type": "execute_result"
    }
   ],
   "source": [
    "num_valid_errors"
   ]
  },
  {
   "cell_type": "code",
   "execution_count": null,
   "metadata": {
    "collapsed": true
   },
   "outputs": [],
   "source": []
  }
 ],
 "metadata": {
  "kernelspec": {
   "display_name": "Python 3",
   "language": "python",
   "name": "python3"
  },
  "language_info": {
   "codemirror_mode": {
    "name": "ipython",
    "version": 3
   },
   "file_extension": ".py",
   "mimetype": "text/x-python",
   "name": "python",
   "nbconvert_exporter": "python",
   "pygments_lexer": "ipython3",
   "version": "3.5.1"
  }
 },
 "nbformat": 4,
 "nbformat_minor": 0
}
